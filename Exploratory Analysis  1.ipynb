{
 "cells": [
  {
   "cell_type": "code",
   "execution_count": 1,
   "metadata": {},
   "outputs": [],
   "source": [
    "import os\n",
    "import pyspark \n",
    "from pyspark.sql import SparkSession\n"
   ]
  },
  {
   "cell_type": "code",
   "execution_count": 2,
   "metadata": {},
   "outputs": [],
   "source": [
    "from dotenv import load_dotenv\n",
    "load_dotenv()\n",
    "key_filepath = os.getenv(\"GOOGLE_APPLICATION_CREDENTIALS\")"
   ]
  },
  {
   "cell_type": "code",
   "execution_count": 3,
   "metadata": {},
   "outputs": [],
   "source": [
    "spark = SparkSession.builder \\\n",
    "    .master(\"local[3]\") \\\n",
    "    .appName(\"Airbnb Listings\") \\\n",
    "    .config(\"spark.hadoop.fs.gs.impl\", \"com.google.cloud.hadoop.fs.gcs.GoogleHadoopFileSystem\") \\\n",
    "    .config(\"spark.hadoop.google.cloud.auth.service.account.json.keyfile\",key_filepath  ) \\\n",
    "    .config(\"spark.hadoop.google.cloud.auth.service.account.enable\", \"true\") \\\n",
    "    .getOrCreate()       \n",
    "\n",
    "\n",
    "    "
   ]
  },
  {
   "cell_type": "code",
   "execution_count": 4,
   "metadata": {},
   "outputs": [],
   "source": [
    "\n",
    "# Read data from GCS\n",
    "df = spark.read.parquet(\"gs://airbnb-listings-421017-bucket/airbnb_listings.parquet\")\n"
   ]
  },
  {
   "cell_type": "code",
   "execution_count": 7,
   "metadata": {},
   "outputs": [
    {
     "name": "stdout",
     "output_type": "stream",
     "text": [
      "+-------+--------------------+--------------------+-------------------+------------------+--------------------+--------------------+----------------+---------------------+----------------------+--------+---------+----------+------------------+--------------------+-------+--------------------+-------------+---------------+------------+---------+--------+----+-----------------+--------------------+-------------------+-----------------+-----+-----------------+\n",
      "|     id|                name|             summary|          longitude|          latitude|               space|         description|instant_bookable|neighborhood_overview|neighbourhood_cleansed| host_id|host_name|host_since|host_response_time|              street|zipcode|review_scores_rating|property_type|      room_type|accommodates|bathrooms|bedrooms|beds|reviews_per_month|           amenities|cancellation_policy|number_of_reviews|price|__index_level_0__|\n",
      "+-------+--------------------+--------------------+-------------------+------------------+--------------------+--------------------+----------------+---------------------+----------------------+--------+---------+----------+------------------+--------------------+-------+--------------------+-------------+---------------+------------+---------+--------+----+-----------------+--------------------+-------------------+-----------------+-----+-----------------+\n",
      "| 241032|Stylish Queen Ann...|                 N/A|-122.37102519997764|47.636289038357184|Make your self at...|Make your self at...|               f|                  N/A|       West Queen Anne|  956883|    Maija|2011-08-11|within a few hours|Gilman Dr W, Seat...|  98119|                95.0|    Apartment|Entire home/apt|           4|      1.0|     1.0| 1.0|             4.07|{TV,\"Cable TV\",In...|           moderate|              207| 85.0|                0|\n",
      "| 953595|Bright & Airy Que...|Chemically sensit...|-122.36566646439582| 47.63912312136253|Beautiful, hypoal...|Chemically sensit...|               f| Queen Anne is a w...|       West Queen Anne| 5177328|   Andrea|2013-02-21|    within an hour|7th Avenue West, ...|  98119|                96.0|    Apartment|Entire home/apt|           4|      1.0|     1.0| 1.0|             1.48|{TV,Internet,\"Wir...|             strict|               43|150.0|                1|\n",
      "|3308979|New Modern House-...|New modern house ...| -122.3694831756176| 47.62972413157736|Our house is mode...|New modern house ...|               f| Upper Queen Anne ...|       West Queen Anne|16708587|     Jill|2014-06-12|within a few hours|West Lee Street, ...|  98119|                97.0|        House|Entire home/apt|          11|      4.5|     5.0| 7.0|             1.15|{TV,\"Cable TV\",In...|             strict|               20|975.0|                2|\n",
      "| 278830|Charming craftsma...|Cozy family craft...|-122.37247063402224| 47.63291840276724|Cozy family craft...|Cozy family craft...|               f| We are in the bea...|       West Queen Anne| 1452570|    Emily|2011-11-29|    within an hour|14th Ave W, Seatt...|  98119|                92.0|        House|Entire home/apt|           6|      2.0|     3.0| 3.0|             0.89|{TV,\"Cable TV\",In...|             strict|               38|450.0|                4|\n",
      "|5956968|Private unit in a...|We're renting out...|-122.36617406518856| 47.63052548240193|If you include a ...|We're renting out...|               f| This part of Quee...|       West Queen Anne|  326758|   Andrew|2010-12-25|               N/A|West Comstock Str...|  98119|                95.0|        House|   Private room|           2|      1.0|     1.0| 1.0|             2.45|{\"Wireless Intern...|             strict|               17|120.0|                5|\n",
      "+-------+--------------------+--------------------+-------------------+------------------+--------------------+--------------------+----------------+---------------------+----------------------+--------+---------+----------+------------------+--------------------+-------+--------------------+-------------+---------------+------------+---------+--------+----+-----------------+--------------------+-------------------+-----------------+-----+-----------------+\n",
      "only showing top 5 rows\n",
      "\n"
     ]
    }
   ],
   "source": [
    "df.show(5)"
   ]
  },
  {
   "cell_type": "code",
   "execution_count": null,
   "metadata": {},
   "outputs": [],
   "source": []
  }
 ],
 "metadata": {
  "kernelspec": {
   "display_name": "base",
   "language": "python",
   "name": "python3"
  },
  "language_info": {
   "codemirror_mode": {
    "name": "ipython",
    "version": 3
   },
   "file_extension": ".py",
   "mimetype": "text/x-python",
   "name": "python",
   "nbconvert_exporter": "python",
   "pygments_lexer": "ipython3",
   "version": "3.10.9"
  }
 },
 "nbformat": 4,
 "nbformat_minor": 2
}
