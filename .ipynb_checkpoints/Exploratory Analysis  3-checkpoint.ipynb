{
 "cells": [
  {
   "cell_type": "code",
   "execution_count": 1,
   "metadata": {},
   "outputs": [],
   "source": [
    "import os\n",
    "import pyspark \n",
    "from pyspark.sql import SparkSession\n",
    "import seaborn as sb\n",
    "import matplotlib.pyplot as plt\n",
    "from pyspark.sql.functions import col\n",
    "from utils import preprocces_text\n",
    "\n"
   ]
  },
  {
   "cell_type": "code",
   "execution_count": 2,
   "metadata": {},
   "outputs": [],
   "source": [
    "from dotenv import load_dotenv\n",
    "load_dotenv()\n",
    "key_filepath = os.getenv(\"GOOGLE_APPLICATION_CREDENTIALS\")\n",
    "os.environ['PYSPARK_PYTHON'] = os.getenv(\"PYSPARK_PYTHON\")\n"
   ]
  },
  {
   "cell_type": "code",
   "execution_count": 3,
   "metadata": {},
   "outputs": [],
   "source": [
    "spark = SparkSession.builder \\\n",
    "    .master(\"local[*]\") \\\n",
    "    .appName(\"Airbnb Listings\") \\\n",
    "    .config(\"spark.network.timeout\", \"1800s\") \\\n",
    "    .config(\"spark.executor.heartbeatInterval\", \"600s\") \\\n",
    "    .config(\"spark.shuffle.io.connectionTimeout\", \"3600s\") \\\n",
    "    .config(\"spark.hadoop.fs.gs.impl\", \"com.google.cloud.hadoop.fs.gcs.GoogleHadoopFileSystem\") \\\n",
    "    .config(\"spark.hadoop.google.cloud.auth.service.account.json.keyfile\",key_filepath  ) \\\n",
    "    .config(\"spark.hadoop.google.cloud.auth.service.account.enable\", \"true\") \\\n",
    "    .getOrCreate()       \n",
    "\n",
    "\n",
    "    "
   ]
  },
  {
   "cell_type": "code",
   "execution_count": 4,
   "metadata": {},
   "outputs": [],
   "source": [
    "\n",
    "# Read data from GCS\n",
    "df = spark.read.parquet(\"gs://airbnb-listings-421017-bucket/airbnb_listings.parquet\")\n"
   ]
  },
  {
   "cell_type": "code",
   "execution_count": 5,
   "metadata": {},
   "outputs": [],
   "source": [
    "top_100_summary = df.select(\"summary\").filter(col(\"summary\") != \"N/A\").sort(col(\"price\").desc()).limit(100).collect()\n",
    "\n",
    "least_100_summary = df.select(\"summary\").filter(col(\"summary\") != \"N/A\").sort(col(\"price\").asc()).limit(100).collect()"
   ]
  },
  {
   "cell_type": "code",
   "execution_count": 6,
   "metadata": {},
   "outputs": [],
   "source": [
    "summary_preprocessed = [preprocces_text(row.summary) for row in top_100_summary]\n",
    "summary_preprocessed = ' '.join([' '.join(row) for row in summary_preprocessed])"
   ]
  },
  {
   "cell_type": "code",
   "execution_count": null,
   "metadata": {},
   "outputs": [],
   "source": [
    "from wordcloud import WordCloud\n",
    "\n",
    "wordcloud = WordCloud(width = 500, height = 400, background_color=\"white\").generate(summary_preprocessed)\n",
    "plt.figure(figsize=(15,15))\n",
    "plt.imshow(wordcloud)\n",
    "plt.axis(\"off\")\n",
    "plt.show()"
   ]
  },
  {
   "cell_type": "code",
   "execution_count": 8,
   "metadata": {},
   "outputs": [],
   "source": [
    "least100_summary_preprocessed = [preprocces_text(row.summary) for row in least_100_summary]\n",
    "least100_summary_preprocessed = ' '.join([' '.join(row) for row in least100_summary_preprocessed])"
   ]
  },
  {
   "cell_type": "code",
   "execution_count": 9,
   "metadata": {},
   "outputs": [
    {
     "name": "stdout",
     "output_type": "stream",
     "text": [
      "enjoy comfy pull-out bed capitol hill neighborhood block away seattle trendiest restaurant bar nightlife -5 minute walk heart capitol hill -15 – minute walk minute drive downtown seattle low budget traveler need place sleep shower toilet found listing providing two person tent sleeping pad sleeping bag also three person tent available min night stay single bed conner laundry room clean quiet easiest commute town seatac airport place take min via link light rail place downtown seattle min ride 3min foot station airbnb location ... walking distance downtown international district cap hill pike place market restaurant bar club seattle u. within busing distance uw space needle listing bottom bunk minute walk broadway heart capitol hill downtown seattle despite living bar noise level night small bus ride away u-district airbnb location ... walking distance downtown international district cap hill pike place market restaurant bar club seattle u. within busing distance uw space needle listing top bunk space mix hostel home group long-term resident subletors welcome short term guest house meet folk whether moving town traveling house offer quiet social space awesome room great seattle neighborhood close ballard greenwood nightlife shopping right bus line room available night beginning dec. 1st entire week nightly price week household item wifi included graduate student share large craftsman home fully furnished bedroom great bicycle access throughout university washington green lake park area laundry facility washer dryer per load many restaurant grocer ideal location student graduate/doctoral study internship travel wonderful fully furnished room available located near seattle largest greenlake park recreation university washington minute downtown seattle bus bike car walking distance university washington restaurant coffee shop café lake graduate student share large craftsman home fully furnished bedroom great bicycle access throughout university washington green lake park area laundry facility washer dryer per load many restaurant grocery store coffee shop within walking distance well green lake park live capitol hill best location tourist walk cool spot downtown capitol hill area shared studio space sharing one person home mix hostel home mix long term roommate short term subletors airbnb guest enjoy house way meet folk around world home space mix hostel home group long-term resident subletors welcome short term guest house meet folk whether moving town traveling house offer quiet social space home mix hostel home mix long term roommate short term subletors airbnb guest house enjoy getting know world home space mix hostel home group long-term resident subletors welcome short term guest house meet folk whether moving town traveling house offer quiet social space space mix hostel home group long-term resident subletors welcome short term guest house meet folk whether moving town traveling house offer quiet social space great place live summer get lot sunlight living room huge living room space comfy couch one ceiling window glass window around living room couch living room another person sleeping living room partition provide privacy prefer female although willing consider male case case basis easy street parking n't come seattle stay inside much enjoy place block alaska junction downtown west seattle incredible walkability 're looking head downtown take water taxi cheap uber small space single bed like alcove made private heavy curtain space perfect someone planning lot close curtain private small better sleeping four people hostel place plan hanging lot never intended purpose futon living room 've hosting via couchsurfing several year using space quite popular 're located near transit hub shopping gym activity wooden privacy screen full kitchen access cute apartment exclusive madison park neighborhood block away madison park mini downtown '' find restaurant bar shop spa bakery post office fitness studio grocery store seattle bus route stop right front apartment direct line capitol hill downtown stopping block pike place market space mix hostel home group long-term resident subletors welcome short term guest house meet folk whether moving town traveling house offer quiet social space space mix hostel home group long-term resident subletors welcome short term guest house meet folk whether moving town traveling house offer quiet social space space mix hostel home group long-term resident subletors welcome short term guest house meet folk whether moving town traveling house offer quiet social space space mix hostel home group long-term resident subletors welcome short term guest house meet folk whether moving town traveling house offer quiet social space space mix hostel home group long-term resident subletors welcome short term guest house meet folk whether moving town traveling house offer quiet social space space mix hostel home group long-term resident subletors welcome short term guest house meet folk whether moving town traveling house offer quiet social space living room welcome budget traveler sleeping comfortable twin sized ikea mattress side easy access buslines freeway house clean quiet use keyless entry space mix hostel home group long-term resident subletors welcome short term guest house meet folk whether moving town traveling house offer quiet social space brand new townhouse third row street quite private guest br 1.25 shared bath minute downtown nearby restaurant bar grocery radiant heating temperature control keep warm blackout blind isolation free street parking available clean quiet cozy queen bedroom share bathroom two room large multi-airbnb bedroom home neighborhood quiet jewish community 1.1mile walk othello light rail station .8mile walk seward park clean quiet cozy queen bedroom share bathroom one room large multi-airbnb bedroom home neighborhood quiet jewish community 1.1mile walk othello light rail station .8mile walk seward park heart ballard new townhome cozy room full size bed lot light large well-stocked kitchen plenty space common area shared full bath master bedroom extra shared 1/2 bathroom available floor lot street parking private furnished room 3-bdr apartment u district full kitchen walking distance uw ave restaurant etc grocery store willing give discounted price female preferred upon roommate request house mile city center quiet small room closet comfortable queen size bed memory foam mattress self check-in check-out meeting host free wifi laundry street parking located heart downtown squarely space needle pike place market shared apartment feature amazing location twin-sized bed space needle view fully stocked kitchen fridge wifi warm seattle welcome come stay cozy sf 33.4 m2 belltown studio heart downtown seattle live close great restaurant coffee shop tourist attraction guest get key one city bike share pas inflatable full size bed/ futon option cool comfy one bedroom located minute green-lake ballard private bathroom walk-in-closet outdoor patio everything need walk away grocery shopping restaurant bar bus line downtown warm quiet easiest commute town seatac airport place take minute via link light rail place downtown seattle minute ride station house take minute foot easy commute location airport downtown 20min ride link '' -- light rail station walk place 3min foot quite clean single bed room home warm welcoming thoughtful detail load sunlight streaming window quiet residential neighborhood close trendy georgetown quaint columbia city please message booking welcome room quaint home furnished vintage found object 3rd generation seattleite easily accessed bus car neighborhood mostly single family home household quiet yet friendly clean quiet cozy queen master bedroom private bathroom well third bed perfect family neighborhood quiet jewish community 1.1mile walk othello light rail station .8mile walk seward park clean quiet comfy full bedroom included breakfast minute walking distance south end lake washington also super convenient airport well one easy bus trip city center clean quiet cozy queen bedroom included breakfast minute walking distance south end lake washington also super convenient airport well one quick bus ride city center small quiet room available darling recently updated home located vibrant neighborhood block columbia city light rail hang low key neighborhood transit town play city contact clean quiet cozy full bedroom share bathroom two room large multi-airbnb bedroom home neighborhood quiet jewish community 1.1mile walk othello light rail station .8mile walk seward park comfortable room near west seattle bridge minute downtown minute airport house block bus stop bike trail cafe convenience store alki beach water taxi close heater place nice spacious furniture apartment located center northgate mall everything convenient walkable private bedroom queen size bed quiet wedgwood/ravenna neighborhood right next university district bus downtown includes full bathroom washer/dryer gas stove/range oven dishwasher ideal location student graduate/doctoral study internship travel wonderful fully furnished room available located near seattle largest greenlake park recreation university washington minute downtown seattle bus bike car walking distance restaurant coffee shop café lake spacious room king size bed located minute green-lake ballard shared large spa bathroom walk-in-closet everything need walk away grocery shopping restaurant bar bus line downtown let cozy brightly lit room welcome solo journey emerald city relax busy day meeting fun sightseeing best friend wedding shared bath always clean company warm simple downstairs bedroom ideal low-maintenance budget traveler free wi-fi parking one car mile downtown seattle semi-private entrance clean quiet cozy full bedroom share bathroom one room large multi-airbnb bedroom home neighborhood quiet jewish community 1.1mile walk othello light rail station .8mile walk seward park private room attic apartment northern exposure picture bedroom one duration stay apartment shared space woman occupying 2nd bedroom cat rest relax large private carpeted rec room queen bed house n beacon hill free wi-fi affordable location mile downtown seattle semi-private entrance free parking one car clean quiet comfy queen bedroom included breakfast minute walking distance south end lake washington also super convenient airport well one easy bus trip city center house big living room big couch entertaining amenity available close northgate north hub city seattle great shopping mall restaurant transit center connecting whole greater seattle area full size bed beautiful view shared bathroom simple､bright clean minute walk bus stop minute drive freeway i-5 queen size bed beautiful view comfortable room decorated appreciation sprocket mechanical situated fun quirky house seattle room close light rail minute downtown access tv laundry full kitchen a/c private room vintage building pretty central seattle location fast drive downtown seattle toll-free drive bellevue/redmond neighborhood super walkable lot eatery park nearby please read cozy home quiet street tree-lined property close uw uvillage childrens hospital walk several business bookstore bakery yoga quaint neighborhood free parking near bus stop bedroom available rent 2-bedroom home large bedroom three bedroom upstair unit spacious open kitchen. free street parking shared bath deck easy access bakery coffee shop restaurant bar charming ballard two block away bus walk score living lower queen anne neighborhood surrounded culture history art great good amazing coffee many business 'll love neighborhood feel city life usually host entire apartment see review love hosting wanted offer great location homey environment affordable option people feel free send message please instant book total nonsmoker like living large friendly loving dog value packed house pine twin bed new sheet shared bath free snack wonderful clean home check review place conveniently located close bus stop walking distance seattle downtown fremont great view lake union lake union minute walk apartment home built located beacon hill near safeco century link field easy access light rail station downtown airport bus service room big warm comfortable vintage pink black bathroom room accommodates two people clean quiet cozy queen bedroom included breakfast minute walking distance south end lake washington also super convenient airport well one easy bus trip city center newly remodeled private room queen size bed self-serve breakfast nice cozy red brick wall url hidden area kitchen/dining/living room bathroom shared three airbnb room min airport downtown room double size bed dresser desk armchair separate outside entrance tv local channel coffee pot bathroom next bedroom shared family adult chlldren cat close downtown without noise desirable leschi neighborhood bed offering hide-a-bed second room currently using office perfect anyone looking cross something economical value stay beautiful treelined neighborhood minute university washington downtown capitol hill great place explore nightlife outdoors art seattle walkscore transit score newly released quiet room door lock nice neighborhood short walk university village center uw min drive child hospital min downtown seattle lake union eastlake easy bus everywhere fast wifi newly released quiet room door lock nice neighborhood short walk university village center uw min drive child hospital min downtown seattle lake union eastlake easy bus everywhere fast wifi super comfy fold flat real mattress large sunny room interesting international decor perfectly located capitol hill easy access part city linen included private room gorgeous apartment located short block pike/pine corridor 15th avenue gourmet dining apartment feature indoor fireplace full kitchen huge living room lot storage space tv wifi bonus room work-room/studio make art house '' birds- eye maple loom wonder super comfy yummy natural fiber texture everywhere bright spacious converted old victorian night minimum room good sized nice big window small shared bathroom kitchen wifi well washer dryer housemate spencer quiet clean respectful quiet place rest visiting family touring n seattle enjoy guest suite private entrance dedicated covered parking dedicated bathroom minifridge/microwave comfortable queen bed tv wifi laundry guest bedroom queen bed beautyrest memory foam mattress help nice sleep keep stress away travel -private bathroom bedroom -shampoo provided -individual small fridge -washer dryer 0.3 mile bus station 4.2 mile alki beach 5.1 mile centry link field 6.3 mile town seattle 6.5 mile pike place market/pioneer square 7.4 mile space needle 9.9 mile kerry park 15.1 mile seatac airport url hidden quiet getaway bedroom ranch style home west seattle easy access downtown via bus foot ferry car share bathroom kitchen living space cat wifi garden walk alki beach grocery restaurant lot sunlight quiet look landscaped backyard easy get around minute ballard fremont minute drive downtown min drive min walk beautiful beach complimentary coffee tea available north seattle two bus line neighborhood house quiet bathroom next bedroom make mostly visiting two well behaved dog mostly occupy back room perfect location downtown seattle walking distance major tourist attraction pike place market space needle waterfront room great lighting even view water close major bus line light rail welcome seattle recently legalized recreational marijuana said offer place ok enjoy medicine conveniently located block light rail block lake washington another good smoke spot view loveseat upstairs guestroom lovely big renovated farmhouse home charming tree lined neighborhood parking easy access downtown via express bus excellent space weeklong visit moving area bright spacious two bedroom apartment located directly across green lake one desired neighborhood seattle jog scenic loop around lake take stroll multiple restaurant coffee house area built run supported seattle tech start veteran grokhome focus create supportive environment smart people working interesting project start ups listing upper bunk 2-person shared room built run supported seattle tech start veteran grokhome focus create supportive environment smart people working interesting project start ups listing upper bunk 4-person shared room built run supported seattle tech start veteran grokhome focus create supportive environment smart people working interesting project start ups listing lower bunk 4-person shared room one folding cot main hall temple sharing space others buddha bed separated shoji screen privacy kitchen bathroom shared guest facility manager built run supported seattle tech start veteran grokhome focus create supportive environment smart people working interesting project start ups listing upper bunk 4-person shared room one folding bed main hall temple sharing space others buddha bed separated shoji screen privacy kitchen bathroom shared guest facility manager house mile city center private large room closet comfortable king size bed self check-in check-out meeting host free wifi laundry street parking read female wifi great option traveler budget clean cozy quiet little spot conveniently located downtown near many tourist attraction bed living room curtain privacy built run supported seattle tech start veteran grokhome focus create supportive environment smart people working interesting project start ups listing lower bunk 4-person shared room\n"
     ]
    }
   ],
   "source": [
    "print(least100_summary_preprocessed)"
   ]
  },
  {
   "cell_type": "code",
   "execution_count": null,
   "metadata": {},
   "outputs": [],
   "source": [
    "from wordcloud import WordCloud\n",
    "\n",
    "wordcloud = WordCloud(width = 500, height = 400, background_color=\"white\").generate(least100_summary_preprocessed)\n",
    "plt.figure(figsize=(15,15))\n",
    "plt.imshow(wordcloud)\n",
    "plt.axis(\"off\")\n",
    "plt.show()"
   ]
  },
  {
   "cell_type": "markdown",
   "metadata": {},
   "source": [
    "#### Analyzing if review sentiment has any relation with price\n"
   ]
  },
  {
   "cell_type": "code",
   "execution_count": 11,
   "metadata": {},
   "outputs": [],
   "source": [
    "reviews_df  = spark.read.csv(\"reviews.csv\", header=True, inferSchema=True)\n",
    "\n",
    "reviews_df = reviews_df.withColumn(\"date\",col(\"date\").cast(\"date\"))\n",
    "\n",
    "# drop rows with null values\n",
    "reviews_df = reviews_df.dropna()"
   ]
  },
  {
   "cell_type": "code",
   "execution_count": 12,
   "metadata": {},
   "outputs": [],
   "source": [
    "from langdetect import detect\n",
    "from pyspark.sql.functions import udf\n",
    "from pyspark.sql.types import StringType\n",
    "\n",
    "def detect_language(text):\n",
    "    try:\n",
    "        return detect(str(text))\n",
    "    except:\n",
    "        return None\n",
    "# Define a UDF to apply language detection to each comment in the DataFrame\n",
    "detect_language_udf = udf(detect_language, StringType())\n",
    "\n",
    "reviews_df = reviews_df.withColumn(\"lang\", detect_language_udf(reviews_df[\"comments\"]))\n"
   ]
  },
  {
   "cell_type": "code",
   "execution_count": 13,
   "metadata": {},
   "outputs": [],
   "source": [
    "# filter only english comments\n",
    "reviews_df = reviews_df.filter(col(\"lang\") == \"en\")"
   ]
  },
  {
   "cell_type": "code",
   "execution_count": 14,
   "metadata": {},
   "outputs": [],
   "source": [
    "reviews_rdd = reviews_df.rdd\n",
    "# apply detect_language to each comment in rdd \n",
    "reviews_rdd = reviews_rdd.map(lambda row: (row.id, row.listing_id, row.date, row.reviewer_id, row.reviewer_name, row.comments, detect_language(row.comments)))"
   ]
  },
  {
   "cell_type": "code",
   "execution_count": null,
   "metadata": {},
   "outputs": [],
   "source": [
    "from nltk.sentiment.vader import SentimentIntensityAnalyzer\n",
    "from pyspark.sql.types import FloatType, StructType, StructField\n",
    "\n",
    "\n",
    "sentiment_intensity = SentimentIntensityAnalyzer()\n",
    "\n",
    "sentiment_intensity_udf = udf(lambda x: sentiment_intensity.polarity_scores(x),StructType([\n",
    "    StructField(\"neg\", FloatType(), True),\n",
    "    StructField(\"neu\", FloatType(), True),\n",
    "    StructField(\"pos\", FloatType(), True),\n",
    "    StructField(\"compound\", FloatType(), True)\n",
    "]))\n",
    "\n",
    "reviews_df = reviews_df.withColumn(\"sentiment_scores\", sentiment_intensity_udf(reviews_df[\"comments\"]))\n",
    "\n",
    "reviews_df = reviews_df.withColumn(\"pos\", col(\"sentiment_scores\")[\"pos\"].cast(FloatType()))\n",
    "\n",
    "reviews_df = reviews_df.withColumn(\"neg\", col(\"sentiment_scores\")[\"neg\"].cast(FloatType()))\n",
    "\n",
    "reviews_df = reviews_df.withColumn(\"neu\", col(\"sentiment_scores\")[\"neu\"].cast(FloatType()))\n",
    "\n",
    "reviews_df = reviews_df.withColumn(\"compound\", col(\"sentiment_scores\")[\"compound\"].cast(FloatType()))\n",
    "\n",
    "\n",
    "lol = reviews_df.toPandas()\n",
    "\n"
   ]
  },
  {
   "cell_type": "code",
   "execution_count": null,
   "metadata": {},
   "outputs": [],
   "source": []
  },
  {
   "cell_type": "code",
   "execution_count": null,
   "metadata": {},
   "outputs": [],
   "source": []
  }
 ],
 "metadata": {
  "kernelspec": {
   "display_name": "Python 3",
   "language": "python",
   "name": "python3"
  },
  "language_info": {
   "codemirror_mode": {
    "name": "ipython",
    "version": 3
   },
   "file_extension": ".py",
   "mimetype": "text/x-python",
   "name": "python",
   "nbconvert_exporter": "python",
   "pygments_lexer": "ipython3",
   "version": "3.11.5"
  }
 },
 "nbformat": 4,
 "nbformat_minor": 2
}
