{
 "cells": [
  {
   "cell_type": "markdown",
   "id": "6db8c85a-bc68-4783-9020-70ae14703410",
   "metadata": {},
   "source": [
    "### Based on the work done during Exploratory Analysis, we have concluded that the predictor variables that might have the greatest impact on price are:\r",
    "#### \r\n",
    "Room Ty, e\r\n",
    "Property T, pe\r\n",
    "Number of Bedr, oms\r\n",
    "Amen, ties\r\n",
    "Number of Raframe."
   ]
  },
  {
   "cell_type": "code",
   "execution_count": 40,
   "id": "48458cd5-51fb-424d-9a27-a11cc3eb58c3",
   "metadata": {},
   "outputs": [],
   "source": [
    "import numpy as np\n",
    "import pandas as pd\n",
    "import seaborn as sb\n",
    "from sklearn.preprocessing import StandardScaler\n",
    "from sklearn.model_selection import train_test_split\n",
    "from sklearn.linear_model import LinearRegression\n",
    "import matplotlib.pyplot as plt"
   ]
  },
  {
   "cell_type": "code",
   "execution_count": 4,
   "id": "86d04660-92c2-42bb-a792-f43b21199cac",
   "metadata": {},
   "outputs": [],
   "source": [
    "df =  pd.read_csv('listings.csv')\n"
   ]
  },
  {
   "cell_type": "code",
   "execution_count": 5,
   "id": "5d1cb716-7591-41e5-a5c4-0bb54fe1aad3",
   "metadata": {},
   "outputs": [
    {
     "name": "stdout",
     "output_type": "stream",
     "text": [
      "<class 'pandas.core.frame.DataFrame'>\n",
      "RangeIndex: 3818 entries, 0 to 3817\n",
      "Data columns (total 6 columns):\n",
      " #   Column             Non-Null Count  Dtype  \n",
      "---  ------             --------------  -----  \n",
      " 0   room_type          3818 non-null   object \n",
      " 1   property_type      3817 non-null   object \n",
      " 2   bedrooms           3812 non-null   float64\n",
      " 3   amenities          3818 non-null   object \n",
      " 4   number_of_reviews  3818 non-null   int64  \n",
      " 5   price              3818 non-null   object \n",
      "dtypes: float64(1), int64(1), object(4)\n",
      "memory usage: 179.1+ KB\n"
     ]
    }
   ],
   "source": [
    "new_df = df[['room_type','property_type','bedrooms','amenities','number_of_reviews', 'price']]\n",
    "new_df.info()"
   ]
  },
  {
   "cell_type": "markdown",
   "id": "a0aca104-8a65-4a3f-ba17-9ac8d2807a60",
   "metadata": {},
   "source": [
    "## Data Preprocessing"
   ]
  },
  {
   "cell_type": "markdown",
   "id": "870a8a8e-6805-4ca6-8401-31d2b8f3b641",
   "metadata": {},
   "source": [
    "### 1. Preparing Amenities"
   ]
  },
  {
   "cell_type": "code",
   "execution_count": 22,
   "id": "d2c799be-fc7e-4bc2-a588-770efe46b791",
   "metadata": {},
   "outputs": [
    {
     "ename": "AttributeError",
     "evalue": "'DataFrame' object has no attribute 'amenities'",
     "output_type": "error",
     "traceback": [
      "\u001b[0;31m---------------------------------------------------------------------------\u001b[0m",
      "\u001b[0;31mAttributeError\u001b[0m                            Traceback (most recent call last)",
      "\u001b[0;32m/tmp/ipykernel_190/373340634.py\u001b[0m in \u001b[0;36m?\u001b[0;34m()\u001b[0m\n\u001b[0;32m----> 1\u001b[0;31m \u001b[0mnew_df\u001b[0m\u001b[0;34m.\u001b[0m\u001b[0mamenities\u001b[0m\u001b[0;34m.\u001b[0m\u001b[0mvalue_counts\u001b[0m\u001b[0;34m(\u001b[0m\u001b[0;34m)\u001b[0m\u001b[0;34m\u001b[0m\u001b[0;34m\u001b[0m\u001b[0m\n\u001b[0m",
      "\u001b[0;32m/opt/conda/lib/python3.11/site-packages/pandas/core/generic.py\u001b[0m in \u001b[0;36m?\u001b[0;34m(self, name)\u001b[0m\n\u001b[1;32m   5985\u001b[0m             \u001b[0;32mand\u001b[0m \u001b[0mname\u001b[0m \u001b[0;32mnot\u001b[0m \u001b[0;32min\u001b[0m \u001b[0mself\u001b[0m\u001b[0;34m.\u001b[0m\u001b[0m_accessors\u001b[0m\u001b[0;34m\u001b[0m\u001b[0;34m\u001b[0m\u001b[0m\n\u001b[1;32m   5986\u001b[0m             \u001b[0;32mand\u001b[0m \u001b[0mself\u001b[0m\u001b[0;34m.\u001b[0m\u001b[0m_info_axis\u001b[0m\u001b[0;34m.\u001b[0m\u001b[0m_can_hold_identifiers_and_holds_name\u001b[0m\u001b[0;34m(\u001b[0m\u001b[0mname\u001b[0m\u001b[0;34m)\u001b[0m\u001b[0;34m\u001b[0m\u001b[0;34m\u001b[0m\u001b[0m\n\u001b[1;32m   5987\u001b[0m         ):\n\u001b[1;32m   5988\u001b[0m             \u001b[0;32mreturn\u001b[0m \u001b[0mself\u001b[0m\u001b[0;34m[\u001b[0m\u001b[0mname\u001b[0m\u001b[0;34m]\u001b[0m\u001b[0;34m\u001b[0m\u001b[0;34m\u001b[0m\u001b[0m\n\u001b[0;32m-> 5989\u001b[0;31m         \u001b[0;32mreturn\u001b[0m \u001b[0mobject\u001b[0m\u001b[0;34m.\u001b[0m\u001b[0m__getattribute__\u001b[0m\u001b[0;34m(\u001b[0m\u001b[0mself\u001b[0m\u001b[0;34m,\u001b[0m \u001b[0mname\u001b[0m\u001b[0;34m)\u001b[0m\u001b[0;34m\u001b[0m\u001b[0;34m\u001b[0m\u001b[0m\n\u001b[0m",
      "\u001b[0;31mAttributeError\u001b[0m: 'DataFrame' object has no attribute 'amenities'"
     ]
    }
   ],
   "source": [
    "new_df.amenities.value_counts()"
   ]
  },
  {
   "cell_type": "code",
   "execution_count": 8,
   "id": "2b4171a5-c557-4d93-9810-5f0e0a9a4107",
   "metadata": {},
   "outputs": [],
   "source": [
    "# Separating the different amenities and creating a dedicated column for each amenity\n",
    "# Creating a set of all possible amenities\n",
    "amenities_list = list(new_df.amenities)\n",
    "amenities_list_string = \" \".join(amenities_list)\n",
    "amenities_list_string = amenities_list_string.replace('{', '')\n",
    "amenities_list_string = amenities_list_string.replace('}', ',')\n",
    "amenities_list_string = amenities_list_string.replace('\"', '')\n",
    "amenities_set = [x.strip() for x in amenities_list_string.split(',')]\n",
    "amenities_set = set(amenities_set)"
   ]
  },
  {
   "cell_type": "code",
   "execution_count": 9,
   "id": "49cbbb15-3372-42b1-adc9-db684dc32414",
   "metadata": {},
   "outputs": [
    {
     "name": "stderr",
     "output_type": "stream",
     "text": [
      "/tmp/ipykernel_190/2065093736.py:2: SettingWithCopyWarning: \n",
      "A value is trying to be set on a copy of a slice from a DataFrame.\n",
      "Try using .loc[row_indexer,col_indexer] = value instead\n",
      "\n",
      "See the caveats in the documentation: https://pandas.pydata.org/pandas-docs/stable/user_guide/indexing.html#returning-a-view-versus-a-copy\n",
      "  new_df.loc[new_df['amenities'].str.contains('24-hour check-in'), 'check_in_24h'] = 1\n",
      "/tmp/ipykernel_190/2065093736.py:3: SettingWithCopyWarning: \n",
      "A value is trying to be set on a copy of a slice from a DataFrame.\n",
      "Try using .loc[row_indexer,col_indexer] = value instead\n",
      "\n",
      "See the caveats in the documentation: https://pandas.pydata.org/pandas-docs/stable/user_guide/indexing.html#returning-a-view-versus-a-copy\n",
      "  new_df.loc[new_df['amenities'].str.contains('Air conditioning|Central air conditioning'), 'air_conditioning'] = 1\n",
      "/tmp/ipykernel_190/2065093736.py:4: SettingWithCopyWarning: \n",
      "A value is trying to be set on a copy of a slice from a DataFrame.\n",
      "Try using .loc[row_indexer,col_indexer] = value instead\n",
      "\n",
      "See the caveats in the documentation: https://pandas.pydata.org/pandas-docs/stable/user_guide/indexing.html#returning-a-view-versus-a-copy\n",
      "  new_df.loc[new_df['amenities'].str.contains('Amazon Echo|Apple TV|Game console|Netflix|Projector and screen|Smart TV'), 'high_end_electronics'] = 1\n",
      "/tmp/ipykernel_190/2065093736.py:5: SettingWithCopyWarning: \n",
      "A value is trying to be set on a copy of a slice from a DataFrame.\n",
      "Try using .loc[row_indexer,col_indexer] = value instead\n",
      "\n",
      "See the caveats in the documentation: https://pandas.pydata.org/pandas-docs/stable/user_guide/indexing.html#returning-a-view-versus-a-copy\n",
      "  new_df.loc[new_df['amenities'].str.contains('BBQ grill|Fire pit|Propane barbeque'), 'bbq'] = 1\n",
      "/tmp/ipykernel_190/2065093736.py:6: SettingWithCopyWarning: \n",
      "A value is trying to be set on a copy of a slice from a DataFrame.\n",
      "Try using .loc[row_indexer,col_indexer] = value instead\n",
      "\n",
      "See the caveats in the documentation: https://pandas.pydata.org/pandas-docs/stable/user_guide/indexing.html#returning-a-view-versus-a-copy\n",
      "  new_df.loc[new_df['amenities'].str.contains('Balcony|Patio'), 'balcony'] = 1\n",
      "/tmp/ipykernel_190/2065093736.py:7: SettingWithCopyWarning: \n",
      "A value is trying to be set on a copy of a slice from a DataFrame.\n",
      "Try using .loc[row_indexer,col_indexer] = value instead\n",
      "\n",
      "See the caveats in the documentation: https://pandas.pydata.org/pandas-docs/stable/user_guide/indexing.html#returning-a-view-versus-a-copy\n",
      "  new_df.loc[new_df['amenities'].str.contains('Beach view|Beachfront|Lake access|Mountain view|Ski-in/Ski-out|Waterfront'), 'nature_and_views'] = 1\n",
      "/tmp/ipykernel_190/2065093736.py:8: SettingWithCopyWarning: \n",
      "A value is trying to be set on a copy of a slice from a DataFrame.\n",
      "Try using .loc[row_indexer,col_indexer] = value instead\n",
      "\n",
      "See the caveats in the documentation: https://pandas.pydata.org/pandas-docs/stable/user_guide/indexing.html#returning-a-view-versus-a-copy\n",
      "  new_df.loc[new_df['amenities'].str.contains('Bed linens'), 'bed_linen'] = 1\n",
      "/tmp/ipykernel_190/2065093736.py:9: SettingWithCopyWarning: \n",
      "A value is trying to be set on a copy of a slice from a DataFrame.\n",
      "Try using .loc[row_indexer,col_indexer] = value instead\n",
      "\n",
      "See the caveats in the documentation: https://pandas.pydata.org/pandas-docs/stable/user_guide/indexing.html#returning-a-view-versus-a-copy\n",
      "  new_df.loc[new_df['amenities'].str.contains('Breakfast'), 'breakfast'] = 1\n",
      "/tmp/ipykernel_190/2065093736.py:10: SettingWithCopyWarning: \n",
      "A value is trying to be set on a copy of a slice from a DataFrame.\n",
      "Try using .loc[row_indexer,col_indexer] = value instead\n",
      "\n",
      "See the caveats in the documentation: https://pandas.pydata.org/pandas-docs/stable/user_guide/indexing.html#returning-a-view-versus-a-copy\n",
      "  new_df.loc[new_df['amenities'].str.contains('TV'), 'tv'] = 1\n",
      "/tmp/ipykernel_190/2065093736.py:11: SettingWithCopyWarning: \n",
      "A value is trying to be set on a copy of a slice from a DataFrame.\n",
      "Try using .loc[row_indexer,col_indexer] = value instead\n",
      "\n",
      "See the caveats in the documentation: https://pandas.pydata.org/pandas-docs/stable/user_guide/indexing.html#returning-a-view-versus-a-copy\n",
      "  new_df.loc[new_df['amenities'].str.contains('Coffee maker|Espresso machine'), 'coffee_machine'] = 1\n",
      "/tmp/ipykernel_190/2065093736.py:12: SettingWithCopyWarning: \n",
      "A value is trying to be set on a copy of a slice from a DataFrame.\n",
      "Try using .loc[row_indexer,col_indexer] = value instead\n",
      "\n",
      "See the caveats in the documentation: https://pandas.pydata.org/pandas-docs/stable/user_guide/indexing.html#returning-a-view-versus-a-copy\n",
      "  new_df.loc[new_df['amenities'].str.contains('Cooking basics'), 'cooking_basics'] = 1\n",
      "/tmp/ipykernel_190/2065093736.py:13: SettingWithCopyWarning: \n",
      "A value is trying to be set on a copy of a slice from a DataFrame.\n",
      "Try using .loc[row_indexer,col_indexer] = value instead\n",
      "\n",
      "See the caveats in the documentation: https://pandas.pydata.org/pandas-docs/stable/user_guide/indexing.html#returning-a-view-versus-a-copy\n",
      "  new_df.loc[new_df['amenities'].str.contains('Dishwasher|Dryer|Washer'), 'white_goods'] = 1\n",
      "/tmp/ipykernel_190/2065093736.py:14: SettingWithCopyWarning: \n",
      "A value is trying to be set on a copy of a slice from a DataFrame.\n",
      "Try using .loc[row_indexer,col_indexer] = value instead\n",
      "\n",
      "See the caveats in the documentation: https://pandas.pydata.org/pandas-docs/stable/user_guide/indexing.html#returning-a-view-versus-a-copy\n",
      "  new_df.loc[new_df['amenities'].str.contains('Elevator'), 'elevator'] = 1\n",
      "/tmp/ipykernel_190/2065093736.py:15: SettingWithCopyWarning: \n",
      "A value is trying to be set on a copy of a slice from a DataFrame.\n",
      "Try using .loc[row_indexer,col_indexer] = value instead\n",
      "\n",
      "See the caveats in the documentation: https://pandas.pydata.org/pandas-docs/stable/user_guide/indexing.html#returning-a-view-versus-a-copy\n",
      "  new_df.loc[new_df['amenities'].str.contains('Exercise equipment|Gym|gym'), 'gym'] = 1\n",
      "/tmp/ipykernel_190/2065093736.py:16: SettingWithCopyWarning: \n",
      "A value is trying to be set on a copy of a slice from a DataFrame.\n",
      "Try using .loc[row_indexer,col_indexer] = value instead\n",
      "\n",
      "See the caveats in the documentation: https://pandas.pydata.org/pandas-docs/stable/user_guide/indexing.html#returning-a-view-versus-a-copy\n",
      "  new_df.loc[new_df['amenities'].str.contains('Family/kid friendly|Children|children'), 'child_friendly'] = 1\n",
      "/tmp/ipykernel_190/2065093736.py:17: SettingWithCopyWarning: \n",
      "A value is trying to be set on a copy of a slice from a DataFrame.\n",
      "Try using .loc[row_indexer,col_indexer] = value instead\n",
      "\n",
      "See the caveats in the documentation: https://pandas.pydata.org/pandas-docs/stable/user_guide/indexing.html#returning-a-view-versus-a-copy\n",
      "  new_df.loc[new_df['amenities'].str.contains('parking'), 'parking'] = 1\n",
      "/tmp/ipykernel_190/2065093736.py:18: SettingWithCopyWarning: \n",
      "A value is trying to be set on a copy of a slice from a DataFrame.\n",
      "Try using .loc[row_indexer,col_indexer] = value instead\n",
      "\n",
      "See the caveats in the documentation: https://pandas.pydata.org/pandas-docs/stable/user_guide/indexing.html#returning-a-view-versus-a-copy\n",
      "  new_df.loc[new_df['amenities'].str.contains('Garden|Outdoor|Sun loungers|Terrace'), 'outdoor_space'] = 1\n",
      "/tmp/ipykernel_190/2065093736.py:19: SettingWithCopyWarning: \n",
      "A value is trying to be set on a copy of a slice from a DataFrame.\n",
      "Try using .loc[row_indexer,col_indexer] = value instead\n",
      "\n",
      "See the caveats in the documentation: https://pandas.pydata.org/pandas-docs/stable/user_guide/indexing.html#returning-a-view-versus-a-copy\n",
      "  new_df.loc[new_df['amenities'].str.contains('Host greets you'), 'host_greeting'] = 1\n",
      "/tmp/ipykernel_190/2065093736.py:20: SettingWithCopyWarning: \n",
      "A value is trying to be set on a copy of a slice from a DataFrame.\n",
      "Try using .loc[row_indexer,col_indexer] = value instead\n",
      "\n",
      "See the caveats in the documentation: https://pandas.pydata.org/pandas-docs/stable/user_guide/indexing.html#returning-a-view-versus-a-copy\n",
      "  new_df.loc[new_df['amenities'].str.contains('Hot tub|Jetted tub|hot tub|Sauna|Pool|pool'), 'hot_tub_sauna_or_pool'] = 1\n",
      "/tmp/ipykernel_190/2065093736.py:21: SettingWithCopyWarning: \n",
      "A value is trying to be set on a copy of a slice from a DataFrame.\n",
      "Try using .loc[row_indexer,col_indexer] = value instead\n",
      "\n",
      "See the caveats in the documentation: https://pandas.pydata.org/pandas-docs/stable/user_guide/indexing.html#returning-a-view-versus-a-copy\n",
      "  new_df.loc[new_df['amenities'].str.contains('Internet|Pocket wifi|Wifi'), 'internet'] = 1\n",
      "/tmp/ipykernel_190/2065093736.py:22: SettingWithCopyWarning: \n",
      "A value is trying to be set on a copy of a slice from a DataFrame.\n",
      "Try using .loc[row_indexer,col_indexer] = value instead\n",
      "\n",
      "See the caveats in the documentation: https://pandas.pydata.org/pandas-docs/stable/user_guide/indexing.html#returning-a-view-versus-a-copy\n",
      "  new_df.loc[new_df['amenities'].str.contains('Long term stays allowed'), 'long_term_stays'] = 1\n",
      "/tmp/ipykernel_190/2065093736.py:23: UserWarning: This pattern is interpreted as a regular expression, and has match groups. To actually get the groups, use str.extract.\n",
      "  new_df.loc[new_df['amenities'].str.contains('Pets|pet|Cat(s)|Dog(s)'), 'pets_allowed'] = 1\n",
      "/tmp/ipykernel_190/2065093736.py:23: SettingWithCopyWarning: \n",
      "A value is trying to be set on a copy of a slice from a DataFrame.\n",
      "Try using .loc[row_indexer,col_indexer] = value instead\n",
      "\n",
      "See the caveats in the documentation: https://pandas.pydata.org/pandas-docs/stable/user_guide/indexing.html#returning-a-view-versus-a-copy\n",
      "  new_df.loc[new_df['amenities'].str.contains('Pets|pet|Cat(s)|Dog(s)'), 'pets_allowed'] = 1\n",
      "/tmp/ipykernel_190/2065093736.py:24: SettingWithCopyWarning: \n",
      "A value is trying to be set on a copy of a slice from a DataFrame.\n",
      "Try using .loc[row_indexer,col_indexer] = value instead\n",
      "\n",
      "See the caveats in the documentation: https://pandas.pydata.org/pandas-docs/stable/user_guide/indexing.html#returning-a-view-versus-a-copy\n",
      "  new_df.loc[new_df['amenities'].str.contains('Private entrance'), 'private_entrance'] = 1\n",
      "/tmp/ipykernel_190/2065093736.py:25: SettingWithCopyWarning: \n",
      "A value is trying to be set on a copy of a slice from a DataFrame.\n",
      "Try using .loc[row_indexer,col_indexer] = value instead\n",
      "\n",
      "See the caveats in the documentation: https://pandas.pydata.org/pandas-docs/stable/user_guide/indexing.html#returning-a-view-versus-a-copy\n",
      "  new_df.loc[new_df['amenities'].str.contains('Safe|Security system'), 'secure'] = 1\n",
      "/tmp/ipykernel_190/2065093736.py:26: SettingWithCopyWarning: \n",
      "A value is trying to be set on a copy of a slice from a DataFrame.\n",
      "Try using .loc[row_indexer,col_indexer] = value instead\n",
      "\n",
      "See the caveats in the documentation: https://pandas.pydata.org/pandas-docs/stable/user_guide/indexing.html#returning-a-view-versus-a-copy\n",
      "  new_df.loc[new_df['amenities'].str.contains('Self check-in'), 'self_check_in'] = 1\n",
      "/tmp/ipykernel_190/2065093736.py:27: SettingWithCopyWarning: \n",
      "A value is trying to be set on a copy of a slice from a DataFrame.\n",
      "Try using .loc[row_indexer,col_indexer] = value instead\n",
      "\n",
      "See the caveats in the documentation: https://pandas.pydata.org/pandas-docs/stable/user_guide/indexing.html#returning-a-view-versus-a-copy\n",
      "  new_df.loc[new_df['amenities'].str.contains('Smoking allowed'), 'smoking_allowed'] = 1\n",
      "/tmp/ipykernel_190/2065093736.py:28: SettingWithCopyWarning: \n",
      "A value is trying to be set on a copy of a slice from a DataFrame.\n",
      "Try using .loc[row_indexer,col_indexer] = value instead\n",
      "\n",
      "See the caveats in the documentation: https://pandas.pydata.org/pandas-docs/stable/user_guide/indexing.html#returning-a-view-versus-a-copy\n",
      "  new_df.loc[new_df['amenities'].str.contains('Step-free access|Wheelchair|Accessible'), 'accessible'] = 1\n",
      "/tmp/ipykernel_190/2065093736.py:29: SettingWithCopyWarning: \n",
      "A value is trying to be set on a copy of a slice from a DataFrame.\n",
      "Try using .loc[row_indexer,col_indexer] = value instead\n",
      "\n",
      "See the caveats in the documentation: https://pandas.pydata.org/pandas-docs/stable/user_guide/indexing.html#returning-a-view-versus-a-copy\n",
      "  new_df.loc[new_df['amenities'].str.contains('Suitable for events'), 'event_suitable'] = 1\n"
     ]
    }
   ],
   "source": [
    "# Creating column variables for each of the different amenities and adding them into the original dataframe\n",
    "new_df.loc[new_df['amenities'].str.contains('24-hour check-in'), 'check_in_24h'] = 1\n",
    "new_df.loc[new_df['amenities'].str.contains('Air conditioning|Central air conditioning'), 'air_conditioning'] = 1\n",
    "new_df.loc[new_df['amenities'].str.contains('Amazon Echo|Apple TV|Game console|Netflix|Projector and screen|Smart TV'), 'high_end_electronics'] = 1\n",
    "new_df.loc[new_df['amenities'].str.contains('BBQ grill|Fire pit|Propane barbeque'), 'bbq'] = 1\n",
    "new_df.loc[new_df['amenities'].str.contains('Balcony|Patio'), 'balcony'] = 1\n",
    "new_df.loc[new_df['amenities'].str.contains('Beach view|Beachfront|Lake access|Mountain view|Ski-in/Ski-out|Waterfront'), 'nature_and_views'] = 1\n",
    "new_df.loc[new_df['amenities'].str.contains('Bed linens'), 'bed_linen'] = 1\n",
    "new_df.loc[new_df['amenities'].str.contains('Breakfast'), 'breakfast'] = 1\n",
    "new_df.loc[new_df['amenities'].str.contains('TV'), 'tv'] = 1\n",
    "new_df.loc[new_df['amenities'].str.contains('Coffee maker|Espresso machine'), 'coffee_machine'] = 1\n",
    "new_df.loc[new_df['amenities'].str.contains('Cooking basics'), 'cooking_basics'] = 1\n",
    "new_df.loc[new_df['amenities'].str.contains('Dishwasher|Dryer|Washer'), 'white_goods'] = 1\n",
    "new_df.loc[new_df['amenities'].str.contains('Elevator'), 'elevator'] = 1\n",
    "new_df.loc[new_df['amenities'].str.contains('Exercise equipment|Gym|gym'), 'gym'] = 1\n",
    "new_df.loc[new_df['amenities'].str.contains('Family/kid friendly|Children|children'), 'child_friendly'] = 1\n",
    "new_df.loc[new_df['amenities'].str.contains('parking'), 'parking'] = 1\n",
    "new_df.loc[new_df['amenities'].str.contains('Garden|Outdoor|Sun loungers|Terrace'), 'outdoor_space'] = 1\n",
    "new_df.loc[new_df['amenities'].str.contains('Host greets you'), 'host_greeting'] = 1\n",
    "new_df.loc[new_df['amenities'].str.contains('Hot tub|Jetted tub|hot tub|Sauna|Pool|pool'), 'hot_tub_sauna_or_pool'] = 1\n",
    "new_df.loc[new_df['amenities'].str.contains('Internet|Pocket wifi|Wifi'), 'internet'] = 1\n",
    "new_df.loc[new_df['amenities'].str.contains('Long term stays allowed'), 'long_term_stays'] = 1\n",
    "new_df.loc[new_df['amenities'].str.contains('Pets|pet|Cat(s)|Dog(s)'), 'pets_allowed'] = 1\n",
    "new_df.loc[new_df['amenities'].str.contains('Private entrance'), 'private_entrance'] = 1\n",
    "new_df.loc[new_df['amenities'].str.contains('Safe|Security system'), 'secure'] = 1\n",
    "new_df.loc[new_df['amenities'].str.contains('Self check-in'), 'self_check_in'] = 1\n",
    "new_df.loc[new_df['amenities'].str.contains('Smoking allowed'), 'smoking_allowed'] = 1\n",
    "new_df.loc[new_df['amenities'].str.contains('Step-free access|Wheelchair|Accessible'), 'accessible'] = 1\n",
    "new_df.loc[new_df['amenities'].str.contains('Suitable for events'), 'event_suitable'] = 1"
   ]
  },
  {
   "cell_type": "code",
   "execution_count": 10,
   "id": "8209c8f8-2e66-4b1a-a692-685f30423096",
   "metadata": {},
   "outputs": [
    {
     "name": "stdout",
     "output_type": "stream",
     "text": [
      "Index(['room_type', 'property_type', 'bedrooms', 'amenities',\n",
      "       'number_of_reviews', 'price', 'check_in_24h', 'air_conditioning',\n",
      "       'high_end_electronics', 'bbq', 'balcony', 'nature_and_views',\n",
      "       'bed_linen', 'breakfast', 'tv', 'coffee_machine', 'cooking_basics',\n",
      "       'white_goods', 'elevator', 'gym', 'child_friendly', 'parking',\n",
      "       'outdoor_space', 'host_greeting', 'hot_tub_sauna_or_pool', 'internet',\n",
      "       'long_term_stays', 'pets_allowed', 'private_entrance', 'secure',\n",
      "       'self_check_in', 'smoking_allowed', 'accessible', 'event_suitable'],\n",
      "      dtype='object')\n"
     ]
    }
   ],
   "source": [
    "print(new_df.columns)"
   ]
  },
  {
   "cell_type": "code",
   "execution_count": 11,
   "id": "c55a2e94-9471-4531-93ad-d0a8da2e3664",
   "metadata": {},
   "outputs": [
    {
     "name": "stderr",
     "output_type": "stream",
     "text": [
      "/tmp/ipykernel_190/2551060599.py:6: SettingWithCopyWarning: \n",
      "A value is trying to be set on a copy of a slice from a DataFrame\n",
      "\n",
      "See the caveats in the documentation: https://pandas.pydata.org/pandas-docs/stable/user_guide/indexing.html#returning-a-view-versus-a-copy\n",
      "  new_df.drop('amenities', axis=1, inplace=True)\n"
     ]
    }
   ],
   "source": [
    "# Replacing nulls with zeros for new columns\n",
    "cols_to_replace_nulls = new_df.iloc[:,41:].columns\n",
    "new_df[cols_to_replace_nulls] = new_df[cols_to_replace_nulls].fillna(0)\n",
    "\n",
    "# Dropping the original amenities variable\n",
    "new_df.drop('amenities', axis=1, inplace=True)"
   ]
  },
  {
   "cell_type": "code",
   "execution_count": 15,
   "id": "d33ca983-d314-4085-b104-622a8cbb7ac4",
   "metadata": {},
   "outputs": [
    {
     "name": "stdout",
     "output_type": "stream",
     "text": [
      "<class 'pandas.core.frame.DataFrame'>\n",
      "RangeIndex: 3818 entries, 0 to 3817\n",
      "Data columns (total 33 columns):\n",
      " #   Column                 Non-Null Count  Dtype  \n",
      "---  ------                 --------------  -----  \n",
      " 0   room_type              3818 non-null   object \n",
      " 1   property_type          3817 non-null   object \n",
      " 2   bedrooms               3812 non-null   float64\n",
      " 3   number_of_reviews      3818 non-null   int64  \n",
      " 4   price                  3818 non-null   object \n",
      " 5   check_in_24h           0 non-null      float64\n",
      " 6   air_conditioning       0 non-null      float64\n",
      " 7   high_end_electronics   0 non-null      float64\n",
      " 8   bbq                    0 non-null      float64\n",
      " 9   balcony                0 non-null      float64\n",
      " 10  nature_and_views       0 non-null      float64\n",
      " 11  bed_linen              0 non-null      float64\n",
      " 12  breakfast              291 non-null    float64\n",
      " 13  tv                     2741 non-null   float64\n",
      " 14  coffee_machine         0 non-null      float64\n",
      " 15  cooking_basics         0 non-null      float64\n",
      " 16  white_goods            3134 non-null   float64\n",
      " 17  elevator               785 non-null    float64\n",
      " 18  gym                    442 non-null    float64\n",
      " 19  child_friendly         0 non-null      float64\n",
      " 20  parking                0 non-null      float64\n",
      " 21  outdoor_space          0 non-null      float64\n",
      " 22  host_greeting          0 non-null      float64\n",
      " 23  hot_tub_sauna_or_pool  159 non-null    float64\n",
      " 24  internet               3692 non-null   float64\n",
      " 25  long_term_stays        0 non-null      float64\n",
      " 26  pets_allowed           1169 non-null   float64\n",
      " 27  private_entrance       0 non-null      float64\n",
      " 28  secure                 727 non-null    float64\n",
      " 29  self_check_in          0 non-null      float64\n",
      " 30  smoking_allowed        0 non-null      float64\n",
      " 31  accessible             300 non-null    float64\n",
      " 32  event_suitable         0 non-null      float64\n",
      "dtypes: float64(29), int64(1), object(3)\n",
      "memory usage: 984.5+ KB\n"
     ]
    }
   ],
   "source": [
    "new_df.info()"
   ]
  },
  {
   "cell_type": "code",
   "execution_count": 17,
   "id": "f62b7232-49a0-4d6f-a75b-7934299eaf0c",
   "metadata": {},
   "outputs": [],
   "source": [
    "# Removing the amenities which have all NULL values for all listings\n",
    "new_df = new_df.dropna(axis=1, how='all')"
   ]
  },
  {
   "cell_type": "code",
   "execution_count": 19,
   "id": "7efd2813-5dd1-4471-a61c-cb0768886498",
   "metadata": {},
   "outputs": [
    {
     "name": "stdout",
     "output_type": "stream",
     "text": [
      "<class 'pandas.core.frame.DataFrame'>\n",
      "RangeIndex: 3818 entries, 0 to 3817\n",
      "Data columns (total 15 columns):\n",
      " #   Column                 Non-Null Count  Dtype  \n",
      "---  ------                 --------------  -----  \n",
      " 0   room_type              3818 non-null   object \n",
      " 1   property_type          3817 non-null   object \n",
      " 2   bedrooms               3812 non-null   float64\n",
      " 3   number_of_reviews      3818 non-null   int64  \n",
      " 4   price                  3818 non-null   object \n",
      " 5   breakfast              291 non-null    float64\n",
      " 6   tv                     2741 non-null   float64\n",
      " 7   white_goods            3134 non-null   float64\n",
      " 8   elevator               785 non-null    float64\n",
      " 9   gym                    442 non-null    float64\n",
      " 10  hot_tub_sauna_or_pool  159 non-null    float64\n",
      " 11  internet               3692 non-null   float64\n",
      " 12  pets_allowed           1169 non-null   float64\n",
      " 13  secure                 727 non-null    float64\n",
      " 14  accessible             300 non-null    float64\n",
      "dtypes: float64(11), int64(1), object(3)\n",
      "memory usage: 447.6+ KB\n"
     ]
    }
   ],
   "source": [
    "new_df.info()"
   ]
  },
  {
   "cell_type": "markdown",
   "id": "77d47e91-efee-4e9a-abca-40351cd350e7",
   "metadata": {},
   "source": [
    "### 2.Preparing Property type"
   ]
  },
  {
   "cell_type": "code",
   "execution_count": 21,
   "id": "86a968b5-c6dd-45c2-a8d4-1b79ff709857",
   "metadata": {},
   "outputs": [
    {
     "data": {
      "text/plain": [
       "property_type\n",
       "House              1733\n",
       "Apartment          1708\n",
       "Townhouse           118\n",
       "Condominium          91\n",
       "Loft                 40\n",
       "Bed & Breakfast      37\n",
       "Other                22\n",
       "Cabin                21\n",
       "Camper/RV            13\n",
       "Bungalow             13\n",
       "Boat                  8\n",
       "Tent                  5\n",
       "Treehouse             3\n",
       "Dorm                  2\n",
       "Chalet                2\n",
       "Yurt                  1\n",
       "Name: count, dtype: int64"
      ]
     },
     "execution_count": 21,
     "metadata": {},
     "output_type": "execute_result"
    }
   ],
   "source": [
    "# Checking to see the total number of each type of property \n",
    "new_df.property_type.value_counts()"
   ]
  },
  {
   "cell_type": "code",
   "execution_count": 23,
   "id": "569825a7-f66a-40d6-b0f0-7de4ac518390",
   "metadata": {},
   "outputs": [
    {
     "data": {
      "text/plain": [
       "property_type\n",
       "House              1733\n",
       "Apartment          1708\n",
       "Townhouse           118\n",
       "Other                91\n",
       "Condominium          91\n",
       "Loft                 40\n",
       "Bed & Breakfast      37\n",
       "Name: count, dtype: int64"
      ]
     },
     "execution_count": 23,
     "metadata": {},
     "output_type": "execute_result"
    }
   ],
   "source": [
    "# Grouping property types with less than <30 count into 'Other'\n",
    "new_df.loc[~new_df.property_type.isin(['House', 'Apartment','Townhouse','Condominium','Loft',\"Bed & Breakfast\"]), 'property_type'] = 'Other'\n",
    "new_df.property_type.value_counts()"
   ]
  },
  {
   "cell_type": "markdown",
   "id": "3eaa5c00-fd55-4c39-b590-5d17d5f0f82c",
   "metadata": {},
   "source": [
    "### 3.Preparing Price"
   ]
  },
  {
   "cell_type": "code",
   "execution_count": 24,
   "id": "83edece2-a6ab-4537-aebc-6cb92d95d820",
   "metadata": {},
   "outputs": [
    {
     "data": {
      "text/html": [
       "<div>\n",
       "<style scoped>\n",
       "    .dataframe tbody tr th:only-of-type {\n",
       "        vertical-align: middle;\n",
       "    }\n",
       "\n",
       "    .dataframe tbody tr th {\n",
       "        vertical-align: top;\n",
       "    }\n",
       "\n",
       "    .dataframe thead th {\n",
       "        text-align: right;\n",
       "    }\n",
       "</style>\n",
       "<table border=\"1\" class=\"dataframe\">\n",
       "  <thead>\n",
       "    <tr style=\"text-align: right;\">\n",
       "      <th></th>\n",
       "      <th>room_type</th>\n",
       "      <th>property_type</th>\n",
       "      <th>bedrooms</th>\n",
       "      <th>number_of_reviews</th>\n",
       "      <th>price</th>\n",
       "      <th>breakfast</th>\n",
       "      <th>tv</th>\n",
       "      <th>white_goods</th>\n",
       "      <th>elevator</th>\n",
       "      <th>gym</th>\n",
       "      <th>hot_tub_sauna_or_pool</th>\n",
       "      <th>internet</th>\n",
       "      <th>pets_allowed</th>\n",
       "      <th>secure</th>\n",
       "      <th>accessible</th>\n",
       "    </tr>\n",
       "  </thead>\n",
       "  <tbody>\n",
       "    <tr>\n",
       "      <th>0</th>\n",
       "      <td>Entire home/apt</td>\n",
       "      <td>Apartment</td>\n",
       "      <td>1.0</td>\n",
       "      <td>207</td>\n",
       "      <td>$85.00</td>\n",
       "      <td>NaN</td>\n",
       "      <td>1.0</td>\n",
       "      <td>1.0</td>\n",
       "      <td>NaN</td>\n",
       "      <td>NaN</td>\n",
       "      <td>NaN</td>\n",
       "      <td>1.0</td>\n",
       "      <td>NaN</td>\n",
       "      <td>NaN</td>\n",
       "      <td>NaN</td>\n",
       "    </tr>\n",
       "    <tr>\n",
       "      <th>1</th>\n",
       "      <td>Entire home/apt</td>\n",
       "      <td>Apartment</td>\n",
       "      <td>1.0</td>\n",
       "      <td>43</td>\n",
       "      <td>$150.00</td>\n",
       "      <td>NaN</td>\n",
       "      <td>1.0</td>\n",
       "      <td>1.0</td>\n",
       "      <td>NaN</td>\n",
       "      <td>NaN</td>\n",
       "      <td>NaN</td>\n",
       "      <td>1.0</td>\n",
       "      <td>NaN</td>\n",
       "      <td>1.0</td>\n",
       "      <td>NaN</td>\n",
       "    </tr>\n",
       "    <tr>\n",
       "      <th>2</th>\n",
       "      <td>Entire home/apt</td>\n",
       "      <td>House</td>\n",
       "      <td>5.0</td>\n",
       "      <td>20</td>\n",
       "      <td>$975.00</td>\n",
       "      <td>NaN</td>\n",
       "      <td>1.0</td>\n",
       "      <td>1.0</td>\n",
       "      <td>NaN</td>\n",
       "      <td>NaN</td>\n",
       "      <td>NaN</td>\n",
       "      <td>1.0</td>\n",
       "      <td>1.0</td>\n",
       "      <td>NaN</td>\n",
       "      <td>NaN</td>\n",
       "    </tr>\n",
       "    <tr>\n",
       "      <th>3</th>\n",
       "      <td>Entire home/apt</td>\n",
       "      <td>Apartment</td>\n",
       "      <td>0.0</td>\n",
       "      <td>0</td>\n",
       "      <td>$100.00</td>\n",
       "      <td>NaN</td>\n",
       "      <td>NaN</td>\n",
       "      <td>1.0</td>\n",
       "      <td>NaN</td>\n",
       "      <td>NaN</td>\n",
       "      <td>NaN</td>\n",
       "      <td>1.0</td>\n",
       "      <td>NaN</td>\n",
       "      <td>1.0</td>\n",
       "      <td>NaN</td>\n",
       "    </tr>\n",
       "    <tr>\n",
       "      <th>4</th>\n",
       "      <td>Entire home/apt</td>\n",
       "      <td>House</td>\n",
       "      <td>3.0</td>\n",
       "      <td>38</td>\n",
       "      <td>$450.00</td>\n",
       "      <td>NaN</td>\n",
       "      <td>1.0</td>\n",
       "      <td>NaN</td>\n",
       "      <td>NaN</td>\n",
       "      <td>NaN</td>\n",
       "      <td>NaN</td>\n",
       "      <td>1.0</td>\n",
       "      <td>NaN</td>\n",
       "      <td>NaN</td>\n",
       "      <td>NaN</td>\n",
       "    </tr>\n",
       "  </tbody>\n",
       "</table>\n",
       "</div>"
      ],
      "text/plain": [
       "         room_type property_type  bedrooms  number_of_reviews    price  \\\n",
       "0  Entire home/apt     Apartment       1.0                207   $85.00   \n",
       "1  Entire home/apt     Apartment       1.0                 43  $150.00   \n",
       "2  Entire home/apt         House       5.0                 20  $975.00   \n",
       "3  Entire home/apt     Apartment       0.0                  0  $100.00   \n",
       "4  Entire home/apt         House       3.0                 38  $450.00   \n",
       "\n",
       "   breakfast   tv  white_goods  elevator  gym  hot_tub_sauna_or_pool  \\\n",
       "0        NaN  1.0          1.0       NaN  NaN                    NaN   \n",
       "1        NaN  1.0          1.0       NaN  NaN                    NaN   \n",
       "2        NaN  1.0          1.0       NaN  NaN                    NaN   \n",
       "3        NaN  NaN          1.0       NaN  NaN                    NaN   \n",
       "4        NaN  1.0          NaN       NaN  NaN                    NaN   \n",
       "\n",
       "   internet  pets_allowed  secure  accessible  \n",
       "0       1.0           NaN     NaN         NaN  \n",
       "1       1.0           NaN     1.0         NaN  \n",
       "2       1.0           1.0     NaN         NaN  \n",
       "3       1.0           NaN     1.0         NaN  \n",
       "4       1.0           NaN     NaN         NaN  "
      ]
     },
     "execution_count": 24,
     "metadata": {},
     "output_type": "execute_result"
    }
   ],
   "source": [
    "new_df.head()"
   ]
  },
  {
   "cell_type": "code",
   "execution_count": 26,
   "id": "d2be53fc-a086-4103-a422-0fe5d5791d23",
   "metadata": {},
   "outputs": [
    {
     "ename": "AttributeError",
     "evalue": "Can only use .str accessor with string values!",
     "output_type": "error",
     "traceback": [
      "\u001b[0;31m---------------------------------------------------------------------------\u001b[0m",
      "\u001b[0;31mAttributeError\u001b[0m                            Traceback (most recent call last)",
      "Cell \u001b[0;32mIn[26], line 2\u001b[0m\n\u001b[1;32m      1\u001b[0m \u001b[38;5;66;03m# Remove the $ sign and the two zeroes and dot and remove any \",\"\u001b[39;00m\n\u001b[0;32m----> 2\u001b[0m new_df\u001b[38;5;241m.\u001b[39mprice \u001b[38;5;241m=\u001b[39m \u001b[43mnew_df\u001b[49m\u001b[38;5;241;43m.\u001b[39;49m\u001b[43mprice\u001b[49m\u001b[38;5;241;43m.\u001b[39;49m\u001b[43mstr\u001b[49m[\u001b[38;5;241m1\u001b[39m:\u001b[38;5;241m-\u001b[39m\u001b[38;5;241m3\u001b[39m]\n\u001b[1;32m      3\u001b[0m new_df\u001b[38;5;241m.\u001b[39mprice \u001b[38;5;241m=\u001b[39m new_df\u001b[38;5;241m.\u001b[39mprice\u001b[38;5;241m.\u001b[39mstr\u001b[38;5;241m.\u001b[39mreplace(\u001b[38;5;124m\"\u001b[39m\u001b[38;5;124m,\u001b[39m\u001b[38;5;124m\"\u001b[39m, \u001b[38;5;124m\"\u001b[39m\u001b[38;5;124m\"\u001b[39m)\n\u001b[1;32m      4\u001b[0m new_df\u001b[38;5;241m.\u001b[39mprice \u001b[38;5;241m=\u001b[39m new_df\u001b[38;5;241m.\u001b[39mprice\u001b[38;5;241m.\u001b[39mastype(\u001b[38;5;124m'\u001b[39m\u001b[38;5;124mint64\u001b[39m\u001b[38;5;124m'\u001b[39m)\n",
      "File \u001b[0;32m/opt/conda/lib/python3.11/site-packages/pandas/core/generic.py:5989\u001b[0m, in \u001b[0;36mNDFrame.__getattr__\u001b[0;34m(self, name)\u001b[0m\n\u001b[1;32m   5982\u001b[0m \u001b[38;5;28;01mif\u001b[39;00m (\n\u001b[1;32m   5983\u001b[0m     name \u001b[38;5;129;01mnot\u001b[39;00m \u001b[38;5;129;01min\u001b[39;00m \u001b[38;5;28mself\u001b[39m\u001b[38;5;241m.\u001b[39m_internal_names_set\n\u001b[1;32m   5984\u001b[0m     \u001b[38;5;129;01mand\u001b[39;00m name \u001b[38;5;129;01mnot\u001b[39;00m \u001b[38;5;129;01min\u001b[39;00m \u001b[38;5;28mself\u001b[39m\u001b[38;5;241m.\u001b[39m_metadata\n\u001b[1;32m   5985\u001b[0m     \u001b[38;5;129;01mand\u001b[39;00m name \u001b[38;5;129;01mnot\u001b[39;00m \u001b[38;5;129;01min\u001b[39;00m \u001b[38;5;28mself\u001b[39m\u001b[38;5;241m.\u001b[39m_accessors\n\u001b[1;32m   5986\u001b[0m     \u001b[38;5;129;01mand\u001b[39;00m \u001b[38;5;28mself\u001b[39m\u001b[38;5;241m.\u001b[39m_info_axis\u001b[38;5;241m.\u001b[39m_can_hold_identifiers_and_holds_name(name)\n\u001b[1;32m   5987\u001b[0m ):\n\u001b[1;32m   5988\u001b[0m     \u001b[38;5;28;01mreturn\u001b[39;00m \u001b[38;5;28mself\u001b[39m[name]\n\u001b[0;32m-> 5989\u001b[0m \u001b[38;5;28;01mreturn\u001b[39;00m \u001b[38;5;28;43mobject\u001b[39;49m\u001b[38;5;241;43m.\u001b[39;49m\u001b[38;5;21;43m__getattribute__\u001b[39;49m\u001b[43m(\u001b[49m\u001b[38;5;28;43mself\u001b[39;49m\u001b[43m,\u001b[49m\u001b[43m \u001b[49m\u001b[43mname\u001b[49m\u001b[43m)\u001b[49m\n",
      "File \u001b[0;32m/opt/conda/lib/python3.11/site-packages/pandas/core/accessor.py:224\u001b[0m, in \u001b[0;36mCachedAccessor.__get__\u001b[0;34m(self, obj, cls)\u001b[0m\n\u001b[1;32m    221\u001b[0m \u001b[38;5;28;01mif\u001b[39;00m obj \u001b[38;5;129;01mis\u001b[39;00m \u001b[38;5;28;01mNone\u001b[39;00m:\n\u001b[1;32m    222\u001b[0m     \u001b[38;5;66;03m# we're accessing the attribute of the class, i.e., Dataset.geo\u001b[39;00m\n\u001b[1;32m    223\u001b[0m     \u001b[38;5;28;01mreturn\u001b[39;00m \u001b[38;5;28mself\u001b[39m\u001b[38;5;241m.\u001b[39m_accessor\n\u001b[0;32m--> 224\u001b[0m accessor_obj \u001b[38;5;241m=\u001b[39m \u001b[38;5;28;43mself\u001b[39;49m\u001b[38;5;241;43m.\u001b[39;49m\u001b[43m_accessor\u001b[49m\u001b[43m(\u001b[49m\u001b[43mobj\u001b[49m\u001b[43m)\u001b[49m\n\u001b[1;32m    225\u001b[0m \u001b[38;5;66;03m# Replace the property with the accessor object. Inspired by:\u001b[39;00m\n\u001b[1;32m    226\u001b[0m \u001b[38;5;66;03m# https://www.pydanny.com/cached-property.html\u001b[39;00m\n\u001b[1;32m    227\u001b[0m \u001b[38;5;66;03m# We need to use object.__setattr__ because we overwrite __setattr__ on\u001b[39;00m\n\u001b[1;32m    228\u001b[0m \u001b[38;5;66;03m# NDFrame\u001b[39;00m\n\u001b[1;32m    229\u001b[0m \u001b[38;5;28mobject\u001b[39m\u001b[38;5;241m.\u001b[39m\u001b[38;5;21m__setattr__\u001b[39m(obj, \u001b[38;5;28mself\u001b[39m\u001b[38;5;241m.\u001b[39m_name, accessor_obj)\n",
      "File \u001b[0;32m/opt/conda/lib/python3.11/site-packages/pandas/core/strings/accessor.py:181\u001b[0m, in \u001b[0;36mStringMethods.__init__\u001b[0;34m(self, data)\u001b[0m\n\u001b[1;32m    178\u001b[0m \u001b[38;5;28;01mdef\u001b[39;00m \u001b[38;5;21m__init__\u001b[39m(\u001b[38;5;28mself\u001b[39m, data) \u001b[38;5;241m-\u001b[39m\u001b[38;5;241m>\u001b[39m \u001b[38;5;28;01mNone\u001b[39;00m:\n\u001b[1;32m    179\u001b[0m     \u001b[38;5;28;01mfrom\u001b[39;00m \u001b[38;5;21;01mpandas\u001b[39;00m\u001b[38;5;21;01m.\u001b[39;00m\u001b[38;5;21;01mcore\u001b[39;00m\u001b[38;5;21;01m.\u001b[39;00m\u001b[38;5;21;01marrays\u001b[39;00m\u001b[38;5;21;01m.\u001b[39;00m\u001b[38;5;21;01mstring_\u001b[39;00m \u001b[38;5;28;01mimport\u001b[39;00m StringDtype\n\u001b[0;32m--> 181\u001b[0m     \u001b[38;5;28mself\u001b[39m\u001b[38;5;241m.\u001b[39m_inferred_dtype \u001b[38;5;241m=\u001b[39m \u001b[38;5;28;43mself\u001b[39;49m\u001b[38;5;241;43m.\u001b[39;49m\u001b[43m_validate\u001b[49m\u001b[43m(\u001b[49m\u001b[43mdata\u001b[49m\u001b[43m)\u001b[49m\n\u001b[1;32m    182\u001b[0m     \u001b[38;5;28mself\u001b[39m\u001b[38;5;241m.\u001b[39m_is_categorical \u001b[38;5;241m=\u001b[39m is_categorical_dtype(data\u001b[38;5;241m.\u001b[39mdtype)\n\u001b[1;32m    183\u001b[0m     \u001b[38;5;28mself\u001b[39m\u001b[38;5;241m.\u001b[39m_is_string \u001b[38;5;241m=\u001b[39m \u001b[38;5;28misinstance\u001b[39m(data\u001b[38;5;241m.\u001b[39mdtype, StringDtype)\n",
      "File \u001b[0;32m/opt/conda/lib/python3.11/site-packages/pandas/core/strings/accessor.py:235\u001b[0m, in \u001b[0;36mStringMethods._validate\u001b[0;34m(data)\u001b[0m\n\u001b[1;32m    232\u001b[0m inferred_dtype \u001b[38;5;241m=\u001b[39m lib\u001b[38;5;241m.\u001b[39minfer_dtype(values, skipna\u001b[38;5;241m=\u001b[39m\u001b[38;5;28;01mTrue\u001b[39;00m)\n\u001b[1;32m    234\u001b[0m \u001b[38;5;28;01mif\u001b[39;00m inferred_dtype \u001b[38;5;129;01mnot\u001b[39;00m \u001b[38;5;129;01min\u001b[39;00m allowed_types:\n\u001b[0;32m--> 235\u001b[0m     \u001b[38;5;28;01mraise\u001b[39;00m \u001b[38;5;167;01mAttributeError\u001b[39;00m(\u001b[38;5;124m\"\u001b[39m\u001b[38;5;124mCan only use .str accessor with string values!\u001b[39m\u001b[38;5;124m\"\u001b[39m)\n\u001b[1;32m    236\u001b[0m \u001b[38;5;28;01mreturn\u001b[39;00m inferred_dtype\n",
      "\u001b[0;31mAttributeError\u001b[0m: Can only use .str accessor with string values!"
     ]
    }
   ],
   "source": [
    "# Remove the $ sign and the two zeroes and dot and remove any \",\"\n",
    "new_df.price = new_df.price.str[1:-3]\n",
    "new_df.price = new_df.price.str.replace(\",\", \"\")\n",
    "new_df.price = new_df.price.astype('int64')\n",
    "new_df.info()"
   ]
  },
  {
   "cell_type": "code",
   "execution_count": 27,
   "id": "db10dc99-8350-406c-863f-e77b560f8449",
   "metadata": {},
   "outputs": [
    {
     "data": {
      "text/plain": [
       "room_type                0\n",
       "property_type            0\n",
       "bedrooms                 0\n",
       "number_of_reviews        0\n",
       "price                    0\n",
       "breakfast                0\n",
       "tv                       0\n",
       "white_goods              0\n",
       "elevator                 0\n",
       "gym                      0\n",
       "hot_tub_sauna_or_pool    0\n",
       "internet                 0\n",
       "pets_allowed             0\n",
       "secure                   0\n",
       "accessible               0\n",
       "dtype: int64"
      ]
     },
     "execution_count": 27,
     "metadata": {},
     "output_type": "execute_result"
    }
   ],
   "source": [
    "# To convert NaN values to 0 for preparation for Modelling\n",
    "new_df = new_df.fillna(0)\n",
    "# Checking to ensure that there are no NULL entries\n",
    "new_df.isnull().sum()"
   ]
  },
  {
   "cell_type": "markdown",
   "id": "81bce2f6-f525-4901-b8e9-6bc5667d988e",
   "metadata": {},
   "source": [
    "## 4.Encoding and Preparation"
   ]
  },
  {
   "cell_type": "code",
   "execution_count": 28,
   "id": "1b4a909c-e86c-48df-9111-06b15bdf59bc",
   "metadata": {},
   "outputs": [
    {
     "name": "stdout",
     "output_type": "stream",
     "text": [
      "<class 'pandas.core.frame.DataFrame'>\n",
      "RangeIndex: 3818 entries, 0 to 3817\n",
      "Data columns (total 23 columns):\n",
      " #   Column                           Non-Null Count  Dtype  \n",
      "---  ------                           --------------  -----  \n",
      " 0   bedrooms                         3818 non-null   float64\n",
      " 1   number_of_reviews                3818 non-null   int64  \n",
      " 2   price                            3818 non-null   int64  \n",
      " 3   breakfast                        3818 non-null   float64\n",
      " 4   tv                               3818 non-null   float64\n",
      " 5   white_goods                      3818 non-null   float64\n",
      " 6   elevator                         3818 non-null   float64\n",
      " 7   gym                              3818 non-null   float64\n",
      " 8   hot_tub_sauna_or_pool            3818 non-null   float64\n",
      " 9   internet                         3818 non-null   float64\n",
      " 10  pets_allowed                     3818 non-null   float64\n",
      " 11  secure                           3818 non-null   float64\n",
      " 12  accessible                       3818 non-null   float64\n",
      " 13  room_type_Entire_home_apt        3818 non-null   bool   \n",
      " 14  room_type_Private_room           3818 non-null   bool   \n",
      " 15  room_type_Shared_room            3818 non-null   bool   \n",
      " 16  property_type_Apartment          3818 non-null   bool   \n",
      " 17  property_type_Bed_and_Breakfast  3818 non-null   bool   \n",
      " 18  property_type_Condominium        3818 non-null   bool   \n",
      " 19  property_type_House              3818 non-null   bool   \n",
      " 20  property_type_Loft               3818 non-null   bool   \n",
      " 21  property_type_Other              3818 non-null   bool   \n",
      " 22  property_type_Townhouse          3818 non-null   bool   \n",
      "dtypes: bool(10), float64(11), int64(2)\n",
      "memory usage: 425.2 KB\n"
     ]
    }
   ],
   "source": [
    "# One-hot encode the Categorial variables\n",
    "transformedDF = pd.get_dummies(new_df, columns=['room_type','property_type'])\n",
    "\n",
    "#renaming some categories to remove '/' and blank spaces\n",
    "newTransformedDF = transformedDF.rename(columns={'room_type_Entire home/apt': 'room_type_Entire_home_apt'})\n",
    "newTransformedDF =newTransformedDF.rename(columns={'room_type_Private room': 'room_type_Private_room'})\n",
    "newTransformedDF =newTransformedDF.rename(columns={'room_type_Shared room': 'room_type_Shared_room'})\n",
    "newTransformedDF =newTransformedDF.rename(columns={'property_type_Bed & Breakfast': 'property_type_Bed_and_Breakfast'})\n",
    "\n",
    "newTransformedDF.info()"
   ]
  },
  {
   "cell_type": "markdown",
   "id": "65bd0edf-74bb-4ab6-b1a7-3df20955d22a",
   "metadata": {},
   "source": [
    "## 5.Standardization of variables"
   ]
  },
  {
   "cell_type": "code",
   "execution_count": 32,
   "id": "c094f17a-a9c5-49c7-b043-2039802ebe20",
   "metadata": {},
   "outputs": [],
   "source": [
    "# Separating X and y for Modelling\n",
    "#Predictor Variables\n",
    "X = pd.DataFrame(newTransformedDF[[\"bedrooms\", \"breakfast\", \"tv\", \"white_goods\", \"elevator\", \"gym\", \"hot_tub_sauna_or_pool\",\n",
    "                              \"internet\", \"pets_allowed\", \"secure\", \"accessible\",\"number_of_reviews\",\"room_type_Entire_home_apt\",\n",
    "                              \"room_type_Private_room\", \"room_type_Shared_room\", \"property_type_Apartment\",\n",
    "                              \"property_type_Bed_and_Breakfast\", \"property_type_Condominium\", \"property_type_House\",\n",
    "                              \"property_type_Loft\", \"property_type_Other\", \"property_type_Townhouse\"]]) \n",
    "#Response Variables\n",
    "y = pd.DataFrame(newTransformedDF[\"price\"]) \n",
    "\n",
    "# Scaling\n",
    "scaler = StandardScaler()\n",
    "X = pd.DataFrame(scaler.fit_transform(X), columns=list(X.columns))"
   ]
  },
  {
   "cell_type": "code",
   "execution_count": 33,
   "id": "627187e5-2847-4d75-b2b6-c6187b2d4888",
   "metadata": {},
   "outputs": [],
   "source": [
    "# Splitting into train and test sets\n",
    "X_train, X_test, y_train, y_test = train_test_split(X, y, test_size=0.2)"
   ]
  },
  {
   "cell_type": "markdown",
   "id": "46c56461-fc00-41d6-8d2d-a46e9843e084",
   "metadata": {},
   "source": [
    "## 6.Linear Regression"
   ]
  },
  {
   "cell_type": "code",
   "execution_count": 36,
   "id": "d76cda56-b1d3-4f62-ba3e-c390a372b8ef",
   "metadata": {},
   "outputs": [
    {
     "data": {
      "text/html": [
       "<style>#sk-container-id-1 {color: black;}#sk-container-id-1 pre{padding: 0;}#sk-container-id-1 div.sk-toggleable {background-color: white;}#sk-container-id-1 label.sk-toggleable__label {cursor: pointer;display: block;width: 100%;margin-bottom: 0;padding: 0.3em;box-sizing: border-box;text-align: center;}#sk-container-id-1 label.sk-toggleable__label-arrow:before {content: \"▸\";float: left;margin-right: 0.25em;color: #696969;}#sk-container-id-1 label.sk-toggleable__label-arrow:hover:before {color: black;}#sk-container-id-1 div.sk-estimator:hover label.sk-toggleable__label-arrow:before {color: black;}#sk-container-id-1 div.sk-toggleable__content {max-height: 0;max-width: 0;overflow: hidden;text-align: left;background-color: #f0f8ff;}#sk-container-id-1 div.sk-toggleable__content pre {margin: 0.2em;color: black;border-radius: 0.25em;background-color: #f0f8ff;}#sk-container-id-1 input.sk-toggleable__control:checked~div.sk-toggleable__content {max-height: 200px;max-width: 100%;overflow: auto;}#sk-container-id-1 input.sk-toggleable__control:checked~label.sk-toggleable__label-arrow:before {content: \"▾\";}#sk-container-id-1 div.sk-estimator input.sk-toggleable__control:checked~label.sk-toggleable__label {background-color: #d4ebff;}#sk-container-id-1 div.sk-label input.sk-toggleable__control:checked~label.sk-toggleable__label {background-color: #d4ebff;}#sk-container-id-1 input.sk-hidden--visually {border: 0;clip: rect(1px 1px 1px 1px);clip: rect(1px, 1px, 1px, 1px);height: 1px;margin: -1px;overflow: hidden;padding: 0;position: absolute;width: 1px;}#sk-container-id-1 div.sk-estimator {font-family: monospace;background-color: #f0f8ff;border: 1px dotted black;border-radius: 0.25em;box-sizing: border-box;margin-bottom: 0.5em;}#sk-container-id-1 div.sk-estimator:hover {background-color: #d4ebff;}#sk-container-id-1 div.sk-parallel-item::after {content: \"\";width: 100%;border-bottom: 1px solid gray;flex-grow: 1;}#sk-container-id-1 div.sk-label:hover label.sk-toggleable__label {background-color: #d4ebff;}#sk-container-id-1 div.sk-serial::before {content: \"\";position: absolute;border-left: 1px solid gray;box-sizing: border-box;top: 0;bottom: 0;left: 50%;z-index: 0;}#sk-container-id-1 div.sk-serial {display: flex;flex-direction: column;align-items: center;background-color: white;padding-right: 0.2em;padding-left: 0.2em;position: relative;}#sk-container-id-1 div.sk-item {position: relative;z-index: 1;}#sk-container-id-1 div.sk-parallel {display: flex;align-items: stretch;justify-content: center;background-color: white;position: relative;}#sk-container-id-1 div.sk-item::before, #sk-container-id-1 div.sk-parallel-item::before {content: \"\";position: absolute;border-left: 1px solid gray;box-sizing: border-box;top: 0;bottom: 0;left: 50%;z-index: -1;}#sk-container-id-1 div.sk-parallel-item {display: flex;flex-direction: column;z-index: 1;position: relative;background-color: white;}#sk-container-id-1 div.sk-parallel-item:first-child::after {align-self: flex-end;width: 50%;}#sk-container-id-1 div.sk-parallel-item:last-child::after {align-self: flex-start;width: 50%;}#sk-container-id-1 div.sk-parallel-item:only-child::after {width: 0;}#sk-container-id-1 div.sk-dashed-wrapped {border: 1px dashed gray;margin: 0 0.4em 0.5em 0.4em;box-sizing: border-box;padding-bottom: 0.4em;background-color: white;}#sk-container-id-1 div.sk-label label {font-family: monospace;font-weight: bold;display: inline-block;line-height: 1.2em;}#sk-container-id-1 div.sk-label-container {text-align: center;}#sk-container-id-1 div.sk-container {/* jupyter's `normalize.less` sets `[hidden] { display: none; }` but bootstrap.min.css set `[hidden] { display: none !important; }` so we also need the `!important` here to be able to override the default hidden behavior on the sphinx rendered scikit-learn.org. See: https://github.com/scikit-learn/scikit-learn/issues/21755 */display: inline-block !important;position: relative;}#sk-container-id-1 div.sk-text-repr-fallback {display: none;}</style><div id=\"sk-container-id-1\" class=\"sk-top-container\"><div class=\"sk-text-repr-fallback\"><pre>LinearRegression()</pre><b>In a Jupyter environment, please rerun this cell to show the HTML representation or trust the notebook. <br />On GitHub, the HTML representation is unable to render, please try loading this page with nbviewer.org.</b></div><div class=\"sk-container\" hidden><div class=\"sk-item\"><div class=\"sk-estimator sk-toggleable\"><input class=\"sk-toggleable__control sk-hidden--visually\" id=\"sk-estimator-id-1\" type=\"checkbox\" checked><label for=\"sk-estimator-id-1\" class=\"sk-toggleable__label sk-toggleable__label-arrow\">LinearRegression</label><div class=\"sk-toggleable__content\"><pre>LinearRegression()</pre></div></div></div></div></div>"
      ],
      "text/plain": [
       "LinearRegression()"
      ]
     },
     "execution_count": 36,
     "metadata": {},
     "output_type": "execute_result"
    }
   ],
   "source": [
    "# Regression Problem : Price = (Predictor Variables)*a(i) +b where i from 0 to predictors number\n",
    "# Creating and fitting the model\n",
    "linreg = LinearRegression()     \n",
    "linreg.fit(X_train, y_train)\n"
   ]
  },
  {
   "cell_type": "code",
   "execution_count": 37,
   "id": "414b5b69-c2f4-4847-bef8-ae1d5730afa8",
   "metadata": {},
   "outputs": [
    {
     "name": "stdout",
     "output_type": "stream",
     "text": [
      "Intercept of Regression \t: b =  [127.52693541]\n",
      "\n",
      "                         Predictors  Coefficients\n",
      "0                          bedrooms  5.170432e+01\n",
      "1                         breakfast -6.964613e-02\n",
      "2                                tv  1.872204e+00\n",
      "3                       white_goods -4.338716e-01\n",
      "4                          elevator  9.517720e+00\n",
      "5                               gym  2.149142e+00\n",
      "6             hot_tub_sauna_or_pool  1.835134e+00\n",
      "7                          internet -1.589165e+00\n",
      "8                      pets_allowed -2.240338e+00\n",
      "9                            secure  4.771624e-01\n",
      "10                       accessible  1.771345e-02\n",
      "11                number_of_reviews -4.410385e+00\n",
      "12        room_type_Entire_home_apt  4.471975e+14\n",
      "13           room_type_Private_room  4.359212e+14\n",
      "14            room_type_Shared_room  1.633631e+14\n",
      "15          property_type_Apartment -6.552123e+14\n",
      "16  property_type_Bed_and_Breakfast -1.290925e+14\n",
      "17        property_type_Condominium -2.010006e+14\n",
      "18              property_type_House -6.560685e+14\n",
      "19               property_type_Loft -1.341708e+14\n",
      "20              property_type_Other -2.010006e+14\n",
      "21          property_type_Townhouse -2.280546e+14\n",
      "\n"
     ]
    }
   ],
   "source": [
    "# Coefficients of the Linear Regression line\n",
    "print('Intercept of Regression \\t: b = ', linreg.intercept_)\n",
    "print()\n",
    "\n",
    "# Print the Coefficients against Predictors\n",
    "print(pd.DataFrame(list(zip(X_train.columns, linreg.coef_[0])), columns = [\"Predictors\", \"Coefficients\"]))\n",
    "print()"
   ]
  },
  {
   "cell_type": "code",
   "execution_count": 38,
   "id": "52edacb4-9f92-41c3-947f-a51c70c60ceb",
   "metadata": {},
   "outputs": [],
   "source": [
    "# Predict Response corresponding to Predictors\n",
    "trainPredictionLR = linreg.predict(X_train)\n",
    "testPredictionLR = linreg.predict(X_test)"
   ]
  },
  {
   "cell_type": "code",
   "execution_count": 41,
   "id": "c42149dd-42b9-488f-9a67-82e5ae97a804",
   "metadata": {},
   "outputs": [
    {
     "data": {
      "text/plain": [
       "Text(0, 0.5, 'Predicted values of the Response Variable (Test)')"
      ]
     },
     "execution_count": 41,
     "metadata": {},
     "output_type": "execute_result"
    },
    {
     "data": {
      "image/png": "[encoded data removed]",
      "text/plain": [
       "<Figure size 2400x1200 with 2 Axes>"
      ]
     },
     "metadata": {},
     "output_type": "display_data"
    }
   ],
   "source": [
    "# Plot the Predictions vs the True values\n",
    "f, axes = plt.subplots(1, 2, figsize=(24, 12))\n",
    "axes[0].scatter(y_train, trainPredictionLR, color = \"blue\")\n",
    "axes[0].plot(y_train, y_train, 'g-', linewidth = 5)\n",
    "axes[0].set_xlabel(\"True values of the Response Variable (Train)\")\n",
    "axes[0].set_ylabel(\"Predicted values of the Response Variable (Train)\")\n",
    "axes[1].scatter(y_test, testPredictionLR, color = \"red\")\n",
    "axes[1].plot(y_test, y_test, 'g-', linewidth = 5)\n",
    "axes[1].set_xlabel(\"True values of the Response Variable (Test)\")\n",
    "axes[1].set_ylabel(\"Predicted values of the Response Variable (Test)\")"
   ]
  },
  {
   "cell_type": "markdown",
   "id": "605fa0d1-d38b-4055-a10b-44490afa9f0a",
   "metadata": {},
   "source": [
    "#### Points that lie on or near the diagonal line means that the values predicted by the Linear Regression model are highly accurate. If the points are away from the diagonal line, the points have been wrongly predicted."
   ]
  },
  {
   "cell_type": "raw",
   "id": "bf600729-35f2-4904-89a9-9a86f10d0262",
   "metadata": {},
   "source": [
    "Answering the Problem\r\n",
    "From all the analysis done, we can confidently answer our initial question of the factors that make a listing more expensive. An aspiring AirBnb host, if investing on a new property in Seattle, should focus on the following factors to maximize the price of his listing. Additionally a traveller who wants to pay the lowest possible price for a listing might want to avoid having these features in his prospective housing :\r",
    "-\n",
    "\r\n",
    "Entire properties listed instead of just a single room fetch the highest price-s.\r\n",
    "Apartment and landed house tend to be the most expensive and the most abundant properties in AirB-nb.\r\n",
    "The more bedrooms a property has, the higher its price. The highest prices are fetched by 6 room propert-ies.\r\n",
    "There are plenty of listings in 'Belltown' or 'West Queen Anne' and they tend to be expen-sive.\r\n",
    "Words like: 'view', 'modern' & 'walk' all frequently appear in the summary of the more expensive li-sting.\r\n",
    "Ammenities such as: 'Washer', Dryer', 'Heating', 'Wireless Internet', 'Smoke Detector', 'Free Parking', 'Kid Friendly', 'TV', 'HotTub/Sauna/Pool', 'Gyms' and 'Elevators' are all common among the more expensive li-stings.\r\n",
    "The reviews a listing gets (quality or quantity) does not have much of an impact in its price."
   ]
  },
  {
   "cell_type": "code",
   "execution_count": null,
   "id": "898f4c2d-a1a6-4826-885d-e498f6e5cbad",
   "metadata": {},
   "outputs": [],
   "source": []
  }
 ],
 "metadata": {
  "kernelspec": {
   "display_name": "Python 3 (ipykernel)",
   "language": "python",
   "name": "python3"
  },
  "language_info": {
   "codemirror_mode": {
    "name": "ipython",
    "version": 3
   },
   "file_extension": ".py",
   "mimetype": "text/x-python",
   "name": "python",
   "nbconvert_exporter": "python",
   "pygments_lexer": "ipython3",
   "version": "3.11.6"
  }
 },
 "nbformat": 4,
 "nbformat_minor": 5
}
