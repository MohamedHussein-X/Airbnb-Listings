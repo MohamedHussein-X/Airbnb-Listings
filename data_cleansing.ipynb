{
 "cells": [
  {
   "cell_type": "code",
   "execution_count": 1,
   "metadata": {},
   "outputs": [],
   "source": [
    "import pyspark \n",
    "from pyspark.sql import SparkSession\n"
   ]
  },
  {
   "cell_type": "code",
   "execution_count": 2,
   "metadata": {},
   "outputs": [],
   "source": [
    "spark = SparkSession.builder \\\n",
    "    .master(\"local[3]\") \\\n",
    "    .appName(\"Airbnb Listings\") \\\n",
    "    .getOrCreate()       "
   ]
  },
  {
   "cell_type": "code",
   "execution_count": 3,
   "metadata": {},
   "outputs": [
    {
     "name": "stdout",
     "output_type": "stream",
     "text": [
      "+-------+--------------------+--------------+------------+--------------------+--------------------+--------------------+--------------------+-------------------+---------------------+--------------------+--------------------+--------------------+--------------------+--------------------+--------------------+--------+--------------------+---------+----------+--------------------+--------------------+------------------+------------------+--------------------+-----------------+--------------------+--------------------+------------------+-------------------+-------------------------+--------------------+--------------------+----------------------+--------------------+-------------+----------------------+----------------------------+-------+-----+-------+-------+--------------+------------+-------------+------------------+-------------------+-----------------+-------------+---------------+------------+---------+--------+----+--------+--------------------+-----------+-------+------------+-------------+----------------+------------+---------------+------------+--------------+--------------+----------------+----------------+---------------+---------------+---------------+----------------+---------------------+-----------------+------------+-----------+--------------------+----------------------+-------------------------+---------------------+---------------------------+----------------------+-------------------+----------------+-------+------------------+----------------+-------------------+-----------------------------+--------------------------------+------------------------------+-----------------+\n",
      "|     id|         listing_url|     scrape_id|last_scraped|                name|             summary|               space|         description|experiences_offered|neighborhood_overview|               notes|             transit|       thumbnail_url|          medium_url|         picture_url|      xl_picture_url| host_id|            host_url|host_name|host_since|       host_location|          host_about|host_response_time|host_response_rate|host_acceptance_rate|host_is_superhost|  host_thumbnail_url|    host_picture_url|host_neighbourhood|host_listings_count|host_total_listings_count|  host_verifications|host_has_profile_pic|host_identity_verified|              street|neighbourhood|neighbourhood_cleansed|neighbourhood_group_cleansed|   city|state|zipcode| market|smart_location|country_code|      country|          latitude|          longitude|is_location_exact|property_type|      room_type|accommodates|bathrooms|bedrooms|beds|bed_type|           amenities|square_feet|  price|weekly_price|monthly_price|security_deposit|cleaning_fee|guests_included|extra_people|minimum_nights|maximum_nights|calendar_updated|has_availability|availability_30|availability_60|availability_90|availability_365|calendar_last_scraped|number_of_reviews|first_review|last_review|review_scores_rating|review_scores_accuracy|review_scores_cleanliness|review_scores_checkin|review_scores_communication|review_scores_location|review_scores_value|requires_license|license|jurisdiction_names|instant_bookable|cancellation_policy|require_guest_profile_picture|require_guest_phone_verification|calculated_host_listings_count|reviews_per_month|\n",
      "+-------+--------------------+--------------+------------+--------------------+--------------------+--------------------+--------------------+-------------------+---------------------+--------------------+--------------------+--------------------+--------------------+--------------------+--------------------+--------+--------------------+---------+----------+--------------------+--------------------+------------------+------------------+--------------------+-----------------+--------------------+--------------------+------------------+-------------------+-------------------------+--------------------+--------------------+----------------------+--------------------+-------------+----------------------+----------------------------+-------+-----+-------+-------+--------------+------------+-------------+------------------+-------------------+-----------------+-------------+---------------+------------+---------+--------+----+--------+--------------------+-----------+-------+------------+-------------+----------------+------------+---------------+------------+--------------+--------------+----------------+----------------+---------------+---------------+---------------+----------------+---------------------+-----------------+------------+-----------+--------------------+----------------------+-------------------------+---------------------+---------------------------+----------------------+-------------------+----------------+-------+------------------+----------------+-------------------+-----------------------------+--------------------------------+------------------------------+-----------------+\n",
      "| 241032|https://www.airbn...|20160104002432|  2016-01-04|Stylish Queen Ann...|                NULL|Make your self at...|Make your self at...|               none|                 NULL|                NULL|                NULL|                NULL|                NULL|https://a1.muscac...|                NULL|  956883|https://www.airbn...|    Maija|2011-08-11|Seattle, Washingt...|I am an artist, i...|within a few hours|               96%|                100%|                f|https://a0.muscac...|https://a0.muscac...|        Queen Anne|                3.0|                      3.0|['email', 'phone'...|                   t|                     t|Gilman Dr W, Seat...|   Queen Anne|       West Queen Anne|                  Queen Anne|Seattle|   WA|  98119|Seattle|   Seattle, WA|          US|United States|47.636289038357184|-122.37102519997764|                t|    Apartment|Entire home/apt|           4|      1.0|     1.0| 1.0|Real Bed|{TV,\"Cable TV\",In...|       NULL| $85.00|        NULL|         NULL|            NULL|        NULL|              2|       $5.00|             1|           365|     4 weeks ago|               t|             14|             41|             71|             346|           2016-01-04|              207|  2011-11-01| 2016-01-02|                95.0|                  10.0|                     10.0|                 10.0|                       10.0|                   9.0|               10.0|               f|   NULL|        WASHINGTON|               f|           moderate|                            f|                               f|                             2|             4.07|\n",
      "| 953595|https://www.airbn...|20160104002432|  2016-01-04|Bright & Airy Que...|Chemically sensit...|Beautiful, hypoal...|Chemically sensit...|               none| Queen Anne is a w...|What's up with th...|Convenient bus st...|https://a0.muscac...|https://a0.muscac...|https://a0.muscac...|https://a0.muscac...| 5177328|https://www.airbn...|   Andrea|2013-02-21|Seattle, Washingt...|Living east coast...|    within an hour|               98%|                100%|                t|https://a0.muscac...|https://a0.muscac...|        Queen Anne|                6.0|                      6.0|['email', 'phone'...|                   t|                     t|7th Avenue West, ...|   Queen Anne|       West Queen Anne|                  Queen Anne|Seattle|   WA|  98119|Seattle|   Seattle, WA|          US|United States| 47.63912312136253|-122.36566646439582|                t|    Apartment|Entire home/apt|           4|      1.0|     1.0| 1.0|Real Bed|{TV,Internet,\"Wir...|       NULL|$150.00|   $1,000.00|    $3,000.00|         $100.00|      $40.00|              1|       $0.00|             2|            90|           today|               t|             13|             13|             16|             291|           2016-01-04|               43|  2013-08-19| 2015-12-29|                96.0|                  10.0|                     10.0|                 10.0|                       10.0|                  10.0|               10.0|               f|   NULL|        WASHINGTON|               f|             strict|                            t|                               t|                             6|             1.48|\n",
      "|3308979|https://www.airbn...|20160104002432|  2016-01-04|New Modern House-...|New modern house ...|Our house is mode...|New modern house ...|               none| Upper Queen Anne ...|Our house is loca...|A bus stop is jus...|                NULL|                NULL|https://a2.muscac...|                NULL|16708587|https://www.airbn...|     Jill|2014-06-12|Seattle, Washingt...|i love living in ...|within a few hours|               67%|                100%|                f|https://a1.muscac...|https://a1.muscac...|        Queen Anne|                2.0|                      2.0|['email', 'phone'...|                   t|                     t|West Lee Street, ...|   Queen Anne|       West Queen Anne|                  Queen Anne|Seattle|   WA|  98119|Seattle|   Seattle, WA|          US|United States| 47.62972413157736| -122.3694831756176|                t|        House|Entire home/apt|          11|      4.5|     5.0| 7.0|Real Bed|{TV,\"Cable TV\",In...|       NULL|$975.00|        NULL|         NULL|       $1,000.00|     $300.00|             10|      $25.00|             4|            30|     5 weeks ago|               t|              1|              6|             17|             220|           2016-01-04|               20|  2014-07-30| 2015-09-03|                97.0|                  10.0|                     10.0|                 10.0|                       10.0|                  10.0|               10.0|               f|   NULL|        WASHINGTON|               f|             strict|                            f|                               f|                             2|             1.15|\n",
      "|7421966|https://www.airbn...|20160104002432|  2016-01-04|  Queen Anne Chateau|A charming apartm...|                NULL|A charming apartm...|               none|                 NULL|                NULL|                NULL|                NULL|                NULL|https://a0.muscac...|                NULL| 9851441|https://www.airbn...|    Emily|2013-11-06|Seattle, Washingt...|                NULL|              NULL|              NULL|                NULL|                f|https://a2.muscac...|https://a2.muscac...|        Queen Anne|                1.0|                      1.0|['email', 'phone'...|                   t|                     t|8th Avenue West, ...|   Queen Anne|       West Queen Anne|                  Queen Anne|Seattle|   WA|  98119|Seattle|   Seattle, WA|          US|United States|47.638473201766416|-122.36927912263018|                t|    Apartment|Entire home/apt|           3|      1.0|     0.0| 2.0|Real Bed|{Internet,\"Wirele...|       NULL|$100.00|     $650.00|    $2,300.00|            NULL|        NULL|              1|       $0.00|             1|          1125|    6 months ago|               t|              0|              0|              0|             143|           2016-01-04|                0|        NULL|       NULL|                NULL|                  NULL|                     NULL|                 NULL|                       NULL|                  NULL|               NULL|               f|   NULL|        WASHINGTON|               f|           flexible|                            f|                               f|                             1|             NULL|\n",
      "| 278830|https://www.airbn...|20160104002432|  2016-01-04|Charming craftsma...|Cozy family craft...|Cozy family craft...|Cozy family craft...|               none| We are in the bea...|           Belltown |The nearest publi...|                NULL|                NULL|https://a1.muscac...|                NULL| 1452570|https://www.airbn...|    Emily|2011-11-29|Seattle, Washingt...|Hi, I live in Sea...|    within an hour|              100%|                NULL|                f|https://a0.muscac...|https://a0.muscac...|        Queen Anne|                2.0|                      2.0|['email', 'phone'...|                   t|                     t|14th Ave W, Seatt...|   Queen Anne|       West Queen Anne|                  Queen Anne|Seattle|   WA|  98119|Seattle|   Seattle, WA|          US|United States| 47.63291840276724|-122.37247063402224|                t|        House|Entire home/apt|           6|      2.0|     3.0| 3.0|Real Bed|{TV,\"Cable TV\",In...|       NULL|$450.00|        NULL|         NULL|         $700.00|     $125.00|              6|      $15.00|             1|          1125|     7 weeks ago|               t|             30|             60|             90|             365|           2016-01-04|               38|  2012-07-10| 2015-10-24|                92.0|                   9.0|                      9.0|                 10.0|                       10.0|                   9.0|                9.0|               f|   NULL|        WASHINGTON|               f|             strict|                            f|                               f|                             1|             0.89|\n",
      "+-------+--------------------+--------------+------------+--------------------+--------------------+--------------------+--------------------+-------------------+---------------------+--------------------+--------------------+--------------------+--------------------+--------------------+--------------------+--------+--------------------+---------+----------+--------------------+--------------------+------------------+------------------+--------------------+-----------------+--------------------+--------------------+------------------+-------------------+-------------------------+--------------------+--------------------+----------------------+--------------------+-------------+----------------------+----------------------------+-------+-----+-------+-------+--------------+------------+-------------+------------------+-------------------+-----------------+-------------+---------------+------------+---------+--------+----+--------+--------------------+-----------+-------+------------+-------------+----------------+------------+---------------+------------+--------------+--------------+----------------+----------------+---------------+---------------+---------------+----------------+---------------------+-----------------+------------+-----------+--------------------+----------------------+-------------------------+---------------------+---------------------------+----------------------+-------------------+----------------+-------+------------------+----------------+-------------------+-----------------------------+--------------------------------+------------------------------+-----------------+\n",
      "only showing top 5 rows\n",
      "\n"
     ]
    }
   ],
   "source": [
    "\n",
    "listings_df = spark.read \\\n",
    "    .option(\"delimiter\", \",\") \\\n",
    "    .option(\"header\", \"true\") \\\n",
    "    .option(\"inferSchema\", \"true\") \\\n",
    "    .parquet(\"listings.parquet\")\n",
    "\n",
    "listings_df.show(5)\n"
   ]
  },
  {
   "cell_type": "code",
   "execution_count": 4,
   "metadata": {},
   "outputs": [
    {
     "name": "stdout",
     "output_type": "stream",
     "text": [
      "3818 28\n"
     ]
    }
   ],
   "source": [
    "#drop unwanted columns \n",
    "listings_df = listings_df.select('id','name','summary','longitude','latitude','space','description','instant_bookable','neighborhood_overview','neighbourhood_cleansed','host_id','host_name','host_since',\n",
    "                 'host_response_time','street', 'zipcode','review_scores_rating','property_type','room_type','accommodates','bathrooms','bedrooms','beds','reviews_per_month','amenities','cancellation_policy','number_of_reviews','price')\n",
    "print(listings_df.count() , len(listings_df.columns))\n"
   ]
  },
  {
   "cell_type": "code",
   "execution_count": 5,
   "metadata": {},
   "outputs": [],
   "source": [
    "listings_df = listings_df.withColumn('host_since', listings_df['host_since'].cast('date'))\n",
    "\n",
    "listings_df = listings_df.withColumn('zipcode', listings_df['zipcode'].cast('int'))"
   ]
  },
  {
   "cell_type": "code",
   "execution_count": 6,
   "metadata": {},
   "outputs": [
    {
     "name": "stdout",
     "output_type": "stream",
     "text": [
      "root\n",
      " |-- id: long (nullable = true)\n",
      " |-- name: string (nullable = true)\n",
      " |-- summary: string (nullable = true)\n",
      " |-- longitude: double (nullable = true)\n",
      " |-- latitude: double (nullable = true)\n",
      " |-- space: string (nullable = true)\n",
      " |-- description: string (nullable = true)\n",
      " |-- instant_bookable: string (nullable = true)\n",
      " |-- neighborhood_overview: string (nullable = true)\n",
      " |-- neighbourhood_cleansed: string (nullable = true)\n",
      " |-- host_id: long (nullable = true)\n",
      " |-- host_name: string (nullable = true)\n",
      " |-- host_since: date (nullable = true)\n",
      " |-- host_response_time: string (nullable = true)\n",
      " |-- street: string (nullable = true)\n",
      " |-- zipcode: integer (nullable = true)\n",
      " |-- review_scores_rating: double (nullable = true)\n",
      " |-- property_type: string (nullable = true)\n",
      " |-- room_type: string (nullable = true)\n",
      " |-- accommodates: long (nullable = true)\n",
      " |-- bathrooms: double (nullable = true)\n",
      " |-- bedrooms: double (nullable = true)\n",
      " |-- beds: double (nullable = true)\n",
      " |-- reviews_per_month: double (nullable = true)\n",
      " |-- amenities: string (nullable = true)\n",
      " |-- cancellation_policy: string (nullable = true)\n",
      " |-- number_of_reviews: long (nullable = true)\n",
      " |-- price: string (nullable = true)\n",
      "\n"
     ]
    }
   ],
   "source": [
    "listings_df.printSchema()"
   ]
  },
  {
   "cell_type": "code",
   "execution_count": 7,
   "metadata": {},
   "outputs": [],
   "source": [
    "# Replace any NAN and null and empty cell in the df to 0\n",
    "listings_df = listings_df.fillna(0)\n",
    "# Fill NULL cells with N/A \n",
    "listings_df = listings_df.fillna('N/A')\n"
   ]
  },
  {
   "cell_type": "code",
   "execution_count": 8,
   "metadata": {},
   "outputs": [
    {
     "name": "stdout",
     "output_type": "stream",
     "text": [
      "+-------+--------------------+--------------------+-------------------+------------------+--------------------+--------------------+----------------+---------------------+----------------------+--------+---------+----------+------------------+--------------------+-------+--------------------+-------------+---------------+------------+---------+--------+----+-----------------+--------------------+-------------------+-----------------+-------+\n",
      "|     id|                name|             summary|          longitude|          latitude|               space|         description|instant_bookable|neighborhood_overview|neighbourhood_cleansed| host_id|host_name|host_since|host_response_time|              street|zipcode|review_scores_rating|property_type|      room_type|accommodates|bathrooms|bedrooms|beds|reviews_per_month|           amenities|cancellation_policy|number_of_reviews|  price|\n",
      "+-------+--------------------+--------------------+-------------------+------------------+--------------------+--------------------+----------------+---------------------+----------------------+--------+---------+----------+------------------+--------------------+-------+--------------------+-------------+---------------+------------+---------+--------+----+-----------------+--------------------+-------------------+-----------------+-------+\n",
      "| 241032|Stylish Queen Ann...|                 N/A|-122.37102519997764|47.636289038357184|Make your self at...|Make your self at...|               f|                  N/A|       West Queen Anne|  956883|    Maija|2011-08-11|within a few hours|Gilman Dr W, Seat...|  98119|                95.0|    Apartment|Entire home/apt|           4|      1.0|     1.0| 1.0|             4.07|{TV,\"Cable TV\",In...|           moderate|              207| $85.00|\n",
      "| 953595|Bright & Airy Que...|Chemically sensit...|-122.36566646439582| 47.63912312136253|Beautiful, hypoal...|Chemically sensit...|               f| Queen Anne is a w...|       West Queen Anne| 5177328|   Andrea|2013-02-21|    within an hour|7th Avenue West, ...|  98119|                96.0|    Apartment|Entire home/apt|           4|      1.0|     1.0| 1.0|             1.48|{TV,Internet,\"Wir...|             strict|               43|$150.00|\n",
      "|3308979|New Modern House-...|New modern house ...| -122.3694831756176| 47.62972413157736|Our house is mode...|New modern house ...|               f| Upper Queen Anne ...|       West Queen Anne|16708587|     Jill|2014-06-12|within a few hours|West Lee Street, ...|  98119|                97.0|        House|Entire home/apt|          11|      4.5|     5.0| 7.0|             1.15|{TV,\"Cable TV\",In...|             strict|               20|$975.00|\n",
      "|7421966|  Queen Anne Chateau|A charming apartm...|-122.36927912263018|47.638473201766416|                 N/A|A charming apartm...|               f|                  N/A|       West Queen Anne| 9851441|    Emily|2013-11-06|               N/A|8th Avenue West, ...|  98119|                 0.0|    Apartment|Entire home/apt|           3|      1.0|     0.0| 2.0|              0.0|{Internet,\"Wirele...|           flexible|                0|$100.00|\n",
      "| 278830|Charming craftsma...|Cozy family craft...|-122.37247063402224| 47.63291840276724|Cozy family craft...|Cozy family craft...|               f| We are in the bea...|       West Queen Anne| 1452570|    Emily|2011-11-29|    within an hour|14th Ave W, Seatt...|  98119|                92.0|        House|Entire home/apt|           6|      2.0|     3.0| 3.0|             0.89|{TV,\"Cable TV\",In...|             strict|               38|$450.00|\n",
      "+-------+--------------------+--------------------+-------------------+------------------+--------------------+--------------------+----------------+---------------------+----------------------+--------+---------+----------+------------------+--------------------+-------+--------------------+-------------+---------------+------------+---------+--------+----+-----------------+--------------------+-------------------+-----------------+-------+\n",
      "only showing top 5 rows\n",
      "\n"
     ]
    }
   ],
   "source": [
    "listings_df.show(n=5)"
   ]
  },
  {
   "cell_type": "code",
   "execution_count": 9,
   "metadata": {},
   "outputs": [],
   "source": [
    "# listings_df.select('price').show(5)\n",
    "# remove $ sign from price column\n",
    "listings_df= listings_df.withColumn('price', listings_df['price'].substr(2,100).cast('float'))\n"
   ]
  },
  {
   "cell_type": "code",
   "execution_count": 10,
   "metadata": {},
   "outputs": [],
   "source": [
    "from pyspark.sql.functions import col\n",
    "# remove  out listings  with no bedrooms / bathrooms .. price etc\n",
    "\n",
    "filtered_listings_df = listings_df.filter((col(\"bedrooms\") > 0) \n",
    "                                          & (col(\"bathrooms\") > 0) \n",
    "                                          & (col(\"price\") > 0) \n",
    "                                          &(col('number_of_reviews') > 0) \n",
    "                                          & (col('reviews_per_month') > 0) \n",
    "                                          & (col('accommodates') > 0) )\n",
    "\n",
    "\n",
    "\n",
    "\n"
   ]
  },
  {
   "cell_type": "code",
   "execution_count": 11,
   "metadata": {},
   "outputs": [
    {
     "name": "stdout",
     "output_type": "stream",
     "text": [
      "0\n"
     ]
    }
   ],
   "source": [
    "# check for nan values\n",
    "print(filtered_listings_df.filter(filtered_listings_df.bathrooms == 0).count())"
   ]
  },
  {
   "cell_type": "code",
   "execution_count": 12,
   "metadata": {},
   "outputs": [
    {
     "name": "stdout",
     "output_type": "stream",
     "text": [
      "+-------+--------------------+--------------------+-------------------+------------------+--------------------+--------------------+----------------+---------------------+----------------------+--------+---------+----------+------------------+--------------------+-------+--------------------+-------------+---------------+------------+---------+--------+----+-----------------+--------------------+-------------------+-----------------+-----+\n",
      "|     id|                name|             summary|          longitude|          latitude|               space|         description|instant_bookable|neighborhood_overview|neighbourhood_cleansed| host_id|host_name|host_since|host_response_time|              street|zipcode|review_scores_rating|property_type|      room_type|accommodates|bathrooms|bedrooms|beds|reviews_per_month|           amenities|cancellation_policy|number_of_reviews|price|\n",
      "+-------+--------------------+--------------------+-------------------+------------------+--------------------+--------------------+----------------+---------------------+----------------------+--------+---------+----------+------------------+--------------------+-------+--------------------+-------------+---------------+------------+---------+--------+----+-----------------+--------------------+-------------------+-----------------+-----+\n",
      "| 241032|Stylish Queen Ann...|                 N/A|-122.37102519997764|47.636289038357184|Make your self at...|Make your self at...|               f|                  N/A|       West Queen Anne|  956883|    Maija|2011-08-11|within a few hours|Gilman Dr W, Seat...|  98119|                95.0|    Apartment|Entire home/apt|           4|      1.0|     1.0| 1.0|             4.07|{TV,\"Cable TV\",In...|           moderate|              207| 85.0|\n",
      "| 953595|Bright & Airy Que...|Chemically sensit...|-122.36566646439582| 47.63912312136253|Beautiful, hypoal...|Chemically sensit...|               f| Queen Anne is a w...|       West Queen Anne| 5177328|   Andrea|2013-02-21|    within an hour|7th Avenue West, ...|  98119|                96.0|    Apartment|Entire home/apt|           4|      1.0|     1.0| 1.0|             1.48|{TV,Internet,\"Wir...|             strict|               43|150.0|\n",
      "|3308979|New Modern House-...|New modern house ...| -122.3694831756176| 47.62972413157736|Our house is mode...|New modern house ...|               f| Upper Queen Anne ...|       West Queen Anne|16708587|     Jill|2014-06-12|within a few hours|West Lee Street, ...|  98119|                97.0|        House|Entire home/apt|          11|      4.5|     5.0| 7.0|             1.15|{TV,\"Cable TV\",In...|             strict|               20|975.0|\n",
      "| 278830|Charming craftsma...|Cozy family craft...|-122.37247063402224| 47.63291840276724|Cozy family craft...|Cozy family craft...|               f| We are in the bea...|       West Queen Anne| 1452570|    Emily|2011-11-29|    within an hour|14th Ave W, Seatt...|  98119|                92.0|        House|Entire home/apt|           6|      2.0|     3.0| 3.0|             0.89|{TV,\"Cable TV\",In...|             strict|               38|450.0|\n",
      "|5956968|Private unit in a...|We're renting out...|-122.36617406518856| 47.63052548240193|If you include a ...|We're renting out...|               f| This part of Quee...|       West Queen Anne|  326758|   Andrew|2010-12-25|               N/A|West Comstock Str...|  98119|                95.0|        House|   Private room|           2|      1.0|     1.0| 1.0|             2.45|{\"Wireless Intern...|             strict|               17|120.0|\n",
      "+-------+--------------------+--------------------+-------------------+------------------+--------------------+--------------------+----------------+---------------------+----------------------+--------+---------+----------+------------------+--------------------+-------+--------------------+-------------+---------------+------------+---------+--------+----+-----------------+--------------------+-------------------+-----------------+-----+\n",
      "only showing top 5 rows\n",
      "\n",
      "None\n",
      "3818 28\n",
      "2860 28\n"
     ]
    }
   ],
   "source": [
    "\n",
    "print(filtered_listings_df.show(n= 5))\n",
    "print(listings_df.count() , len(listings_df.columns))\n",
    "print(filtered_listings_df.count() , len(filtered_listings_df.columns))\n"
   ]
  },
  {
   "cell_type": "code",
   "execution_count": null,
   "metadata": {},
   "outputs": [],
   "source": [
    "import os\n",
    "\n",
    "# Get the current working directory\n",
    "current_dir = os.getcwd()\n",
    "\n",
    "# save the cleaned data to parquet file\n",
    "\n",
    "filtered_listings_df.write.parquet(os.path.join(current_dir, \"cleaned_listings.parquet\"), mode='overwrite')"
   ]
  },
  {
   "cell_type": "code",
   "execution_count": 18,
   "metadata": {},
   "outputs": [
    {
     "name": "stdout",
     "output_type": "stream",
     "text": [
      "+-------+--------------------+--------------------+-------------------+------------------+--------------------+--------------------+----------------+---------------------+----------------------+--------+---------+----------+------------------+--------------------+-------+--------------------+-------------+---------------+------------+---------+--------+----+-----------------+--------------------+-------------------+-----------------+-----+\n",
      "|     id|                name|             summary|          longitude|          latitude|               space|         description|instant_bookable|neighborhood_overview|neighbourhood_cleansed| host_id|host_name|host_since|host_response_time|              street|zipcode|review_scores_rating|property_type|      room_type|accommodates|bathrooms|bedrooms|beds|reviews_per_month|           amenities|cancellation_policy|number_of_reviews|price|\n",
      "+-------+--------------------+--------------------+-------------------+------------------+--------------------+--------------------+----------------+---------------------+----------------------+--------+---------+----------+------------------+--------------------+-------+--------------------+-------------+---------------+------------+---------+--------+----+-----------------+--------------------+-------------------+-----------------+-----+\n",
      "| 241032|Stylish Queen Ann...|                 N/A|-122.37102519997764|47.636289038357184|Make your self at...|Make your self at...|               f|                  N/A|       West Queen Anne|  956883|    Maija|2011-08-11|within a few hours|Gilman Dr W, Seat...|  98119|                95.0|    Apartment|Entire home/apt|           4|      1.0|     1.0| 1.0|             4.07|{TV,\"Cable TV\",In...|           moderate|              207| 85.0|\n",
      "| 953595|Bright & Airy Que...|Chemically sensit...|-122.36566646439582| 47.63912312136253|Beautiful, hypoal...|Chemically sensit...|               f| Queen Anne is a w...|       West Queen Anne| 5177328|   Andrea|2013-02-21|    within an hour|7th Avenue West, ...|  98119|                96.0|    Apartment|Entire home/apt|           4|      1.0|     1.0| 1.0|             1.48|{TV,Internet,\"Wir...|             strict|               43|150.0|\n",
      "|3308979|New Modern House-...|New modern house ...| -122.3694831756176| 47.62972413157736|Our house is mode...|New modern house ...|               f| Upper Queen Anne ...|       West Queen Anne|16708587|     Jill|2014-06-12|within a few hours|West Lee Street, ...|  98119|                97.0|        House|Entire home/apt|          11|      4.5|     5.0| 7.0|             1.15|{TV,\"Cable TV\",In...|             strict|               20|975.0|\n",
      "| 278830|Charming craftsma...|Cozy family craft...|-122.37247063402224| 47.63291840276724|Cozy family craft...|Cozy family craft...|               f| We are in the bea...|       West Queen Anne| 1452570|    Emily|2011-11-29|    within an hour|14th Ave W, Seatt...|  98119|                92.0|        House|Entire home/apt|           6|      2.0|     3.0| 3.0|             0.89|{TV,\"Cable TV\",In...|             strict|               38|450.0|\n",
      "|5956968|Private unit in a...|We're renting out...|-122.36617406518856| 47.63052548240193|If you include a ...|We're renting out...|               f| This part of Quee...|       West Queen Anne|  326758|   Andrew|2010-12-25|               N/A|West Comstock Str...|  98119|                95.0|        House|   Private room|           2|      1.0|     1.0| 1.0|             2.45|{\"Wireless Intern...|             strict|               17|120.0|\n",
      "+-------+--------------------+--------------------+-------------------+------------------+--------------------+--------------------+----------------+---------------------+----------------------+--------+---------+----------+------------------+--------------------+-------+--------------------+-------------+---------------+------------+---------+--------+----+-----------------+--------------------+-------------------+-----------------+-----+\n",
      "only showing top 5 rows\n",
      "\n",
      "2860 28\n"
     ]
    }
   ],
   "source": [
    "df = spark.read.parquet(\"cleaned_listings.parquet\")\n",
    "df.show(5)\n",
    "print(df.count() , len(df.columns))"
   ]
  },
  {
   "cell_type": "code",
   "execution_count": null,
   "metadata": {},
   "outputs": [],
   "source": []
  }
 ],
 "metadata": {
  "kernelspec": {
   "display_name": "base",
   "language": "python",
   "name": "python3"
  },
  "language_info": {
   "codemirror_mode": {
    "name": "ipython",
    "version": 3
   },
   "file_extension": ".py",
   "mimetype": "text/x-python",
   "name": "python",
   "nbconvert_exporter": "python",
   "pygments_lexer": "ipython3",
   "version": "3.10.9"
  }
 },
 "nbformat": 4,
 "nbformat_minor": 2
}
